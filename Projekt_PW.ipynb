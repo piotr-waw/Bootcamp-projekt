{
 "cells": [
  {
   "cell_type": "markdown",
   "metadata": {},
   "source": [
    "# Projekt\n",
    "\n",
    "### Bootcamp Data Science gr II Katowice\n",
    "\n",
    "##### Przewidywanie udzielenia pożyczki klientowi"
   ]
  },
  {
   "cell_type": "markdown",
   "metadata": {},
   "source": [
    "Zmienne wejściowe :\n",
    "\n",
    "- ID - Unique ID (Liczba porządkowa)\n",
    "- Gender- Sex [Female = 0, Male = 1]\n",
    "- City - Current City [Ranking miast według liczby wystąpień, liczba najpopularniejszych : CITY_TRESHOLD, pozostałe 'OTHER']\n",
    "- Monthly_Income - Monthly Income in rupees\n",
    "- DOB - Date of Birth [] \n",
    "- Lead_Creation_Date - Lead Created on date\n",
    "- Loan_Amount_Applied - Loan Amount Requested (INR) [Uzupełnienie średnią braków]\n",
    "- Loan_Tenure_Applied - Loan Tenure Requested (in years) [Uzupełnienie średnią braków]\n",
    "- Existing_EMI - EMI of Existing Loans (INR)  [Uzupełnienie średnią braków]\n",
    "- Employer_Name - Employer Name [Ranking według liczby wystąpień, liczba najpopularniejszych : EMPLOYER_NAME_TRESHOLD, poniżej wartości : emp_no_important, puste '0' + pozostałe 'OTHER']\n",
    "- Salary_Account- Salary account with Bank [Ranking według liczby wystąpień, liczba najpopularniejszych : SALARY_ACCOUNT_TRESHOLD, pozostałe 'OTHER', braki (gotówka) : 'None']\n",
    "- Mobile_Verified - Mobile Verified (Y/N) [N = 0, Y = 1]\n",
    "- Var5- Continuous classified variable\n",
    "- Var1- Categorical variable with multiple levels [Ranking według liczby wystąpień, liczna najpopularniejszych : TRESHOLD, pozostałe 'OTHER']\n",
    "- Loan_Amount_Submitted- Loan Amount Revised and Selected after seeing Eligibility\n",
    "- Loan_Tenure_Submitted- Loan Tenure Revised and Selected after seeing Eligibility (Years)\n",
    "- Interest_Rate- Interest Rate of Submitted Loan Amount\n",
    "- Processing_Fee- Processing Fee of Submitted Loan Amount (INR)\n",
    "- EMI_Loan_Submitted- EMI of Submitted Loan Amount (INR)\n",
    "- Filled_Form- Filled Application form post quote [N = 0, Y = 1]\n",
    "- Device_Type- Device from which application was made (Browser/ Mobile) [Mobile = 0, Web-browser = 1]\n",
    "- Var2- Categorical Variable with multiple Levels\n",
    "- Source- Categorical Variable with multiple Levels [Ranking według liczby wystąpień, liczna najpopularniejszych : SOURCE_TRESHOLD, pozostałe 'OTHER']\n",
    "- Var4- Categorical Variable with multiple Levels [Ranking według liczby wystąpień, liczna najpopularniejszych : SOURCE_TRESHOLD, pozostałe 'OTHER']\n",
    "\n",
    "Wyniki :\n",
    "\n",
    "- LoggedIn- Application Logged (Variable for understanding the problem – cannot be used in prediction)\n",
    "- Disbursed- Loan Disbursed (Target Variable)"
   ]
  },
  {
   "cell_type": "markdown",
   "metadata": {},
   "source": [
    "### Import bibliotek"
   ]
  },
  {
   "cell_type": "code",
   "execution_count": 1,
   "metadata": {},
   "outputs": [],
   "source": [
    "import pandas as pd\n",
    "import numpy as np\n",
    "from datetime import datetime\n",
    "\n",
    "import math\n",
    "import matplotlib.pyplot as plt\n",
    "import seaborn as sns\n",
    "\n",
    "from sklearn.pipeline import Pipeline\n",
    "from sklearn.linear_model import LogisticRegression\n",
    "from sklearn.tree import DecisionTreeClassifier\n",
    "from sklearn.naive_bayes import MultinomialNB\n",
    "from sklearn.preprocessing import MaxAbsScaler\n",
    "from sklearn.preprocessing import MinMaxScaler\n",
    "from sklearn.preprocessing import StandardScaler\n",
    "from sklearn.ensemble import RandomForestClassifier\n",
    "\n",
    "from sklearn.model_selection import GridSearchCV, train_test_split, cross_val_score\n",
    "from sklearn.metrics import roc_auc_score, accuracy_score, f1_score\n",
    "\n",
    "np.random.seed(42)"
   ]
  },
  {
   "cell_type": "markdown",
   "metadata": {},
   "source": [
    "### Import i analiza danych"
   ]
  },
  {
   "cell_type": "code",
   "execution_count": 2,
   "metadata": {},
   "outputs": [],
   "source": [
    "data = pd.read_csv('Train.csv', encoding = \"ISO-8859-1\")"
   ]
  },
  {
   "cell_type": "code",
   "execution_count": 3,
   "metadata": {},
   "outputs": [],
   "source": [
    "data_new = data.copy()"
   ]
  },
  {
   "cell_type": "code",
   "execution_count": 4,
   "metadata": {},
   "outputs": [],
   "source": [
    "### Usunięcie kolumny LoggedIn zgodnie z założeniami projektu oraz porządkowej ID\n",
    "data_new = data_new.drop(['LoggedIn','ID'], axis=1)"
   ]
  },
  {
   "cell_type": "code",
   "execution_count": 5,
   "metadata": {
    "scrolled": true
   },
   "outputs": [
    {
     "data": {
      "text/html": [
       "<div>\n",
       "<style scoped>\n",
       "    .dataframe tbody tr th:only-of-type {\n",
       "        vertical-align: middle;\n",
       "    }\n",
       "\n",
       "    .dataframe tbody tr th {\n",
       "        vertical-align: top;\n",
       "    }\n",
       "\n",
       "    .dataframe thead th {\n",
       "        text-align: right;\n",
       "    }\n",
       "</style>\n",
       "<table border=\"1\" class=\"dataframe\">\n",
       "  <thead>\n",
       "    <tr style=\"text-align: right;\">\n",
       "      <th></th>\n",
       "      <th>Gender</th>\n",
       "      <th>City</th>\n",
       "      <th>Monthly_Income</th>\n",
       "      <th>DOB</th>\n",
       "      <th>Lead_Creation_Date</th>\n",
       "      <th>Loan_Amount_Applied</th>\n",
       "      <th>Loan_Tenure_Applied</th>\n",
       "      <th>Existing_EMI</th>\n",
       "      <th>Employer_Name</th>\n",
       "      <th>Salary_Account</th>\n",
       "      <th>...</th>\n",
       "      <th>Loan_Tenure_Submitted</th>\n",
       "      <th>Interest_Rate</th>\n",
       "      <th>Processing_Fee</th>\n",
       "      <th>EMI_Loan_Submitted</th>\n",
       "      <th>Filled_Form</th>\n",
       "      <th>Device_Type</th>\n",
       "      <th>Var2</th>\n",
       "      <th>Source</th>\n",
       "      <th>Var4</th>\n",
       "      <th>Disbursed</th>\n",
       "    </tr>\n",
       "  </thead>\n",
       "  <tbody>\n",
       "    <tr>\n",
       "      <th>0</th>\n",
       "      <td>Female</td>\n",
       "      <td>Delhi</td>\n",
       "      <td>20000</td>\n",
       "      <td>23-May-78</td>\n",
       "      <td>15-May-15</td>\n",
       "      <td>300000.0</td>\n",
       "      <td>5.0</td>\n",
       "      <td>0.0</td>\n",
       "      <td>CYBOSOL</td>\n",
       "      <td>HDFC Bank</td>\n",
       "      <td>...</td>\n",
       "      <td>NaN</td>\n",
       "      <td>NaN</td>\n",
       "      <td>NaN</td>\n",
       "      <td>NaN</td>\n",
       "      <td>N</td>\n",
       "      <td>Web-browser</td>\n",
       "      <td>G</td>\n",
       "      <td>S122</td>\n",
       "      <td>1</td>\n",
       "      <td>0</td>\n",
       "    </tr>\n",
       "    <tr>\n",
       "      <th>1</th>\n",
       "      <td>Male</td>\n",
       "      <td>Mumbai</td>\n",
       "      <td>35000</td>\n",
       "      <td>07-Oct-85</td>\n",
       "      <td>04-May-15</td>\n",
       "      <td>200000.0</td>\n",
       "      <td>2.0</td>\n",
       "      <td>0.0</td>\n",
       "      <td>TATA CONSULTANCY SERVICES LTD (TCS)</td>\n",
       "      <td>ICICI Bank</td>\n",
       "      <td>...</td>\n",
       "      <td>2.0</td>\n",
       "      <td>13.25</td>\n",
       "      <td>NaN</td>\n",
       "      <td>6762.9</td>\n",
       "      <td>N</td>\n",
       "      <td>Web-browser</td>\n",
       "      <td>G</td>\n",
       "      <td>S122</td>\n",
       "      <td>3</td>\n",
       "      <td>0</td>\n",
       "    </tr>\n",
       "    <tr>\n",
       "      <th>2</th>\n",
       "      <td>Male</td>\n",
       "      <td>Panchkula</td>\n",
       "      <td>22500</td>\n",
       "      <td>10-Oct-81</td>\n",
       "      <td>19-May-15</td>\n",
       "      <td>600000.0</td>\n",
       "      <td>4.0</td>\n",
       "      <td>0.0</td>\n",
       "      <td>ALCHEMIST HOSPITALS LTD</td>\n",
       "      <td>State Bank of India</td>\n",
       "      <td>...</td>\n",
       "      <td>4.0</td>\n",
       "      <td>NaN</td>\n",
       "      <td>NaN</td>\n",
       "      <td>NaN</td>\n",
       "      <td>N</td>\n",
       "      <td>Web-browser</td>\n",
       "      <td>B</td>\n",
       "      <td>S143</td>\n",
       "      <td>1</td>\n",
       "      <td>0</td>\n",
       "    </tr>\n",
       "    <tr>\n",
       "      <th>3</th>\n",
       "      <td>Male</td>\n",
       "      <td>Saharsa</td>\n",
       "      <td>35000</td>\n",
       "      <td>30-Nov-87</td>\n",
       "      <td>09-May-15</td>\n",
       "      <td>1000000.0</td>\n",
       "      <td>5.0</td>\n",
       "      <td>0.0</td>\n",
       "      <td>BIHAR GOVERNMENT</td>\n",
       "      <td>State Bank of India</td>\n",
       "      <td>...</td>\n",
       "      <td>5.0</td>\n",
       "      <td>NaN</td>\n",
       "      <td>NaN</td>\n",
       "      <td>NaN</td>\n",
       "      <td>N</td>\n",
       "      <td>Web-browser</td>\n",
       "      <td>B</td>\n",
       "      <td>S143</td>\n",
       "      <td>3</td>\n",
       "      <td>0</td>\n",
       "    </tr>\n",
       "    <tr>\n",
       "      <th>4</th>\n",
       "      <td>Male</td>\n",
       "      <td>Bengaluru</td>\n",
       "      <td>100000</td>\n",
       "      <td>17-Feb-84</td>\n",
       "      <td>20-May-15</td>\n",
       "      <td>500000.0</td>\n",
       "      <td>2.0</td>\n",
       "      <td>25000.0</td>\n",
       "      <td>GLOBAL EDGE SOFTWARE</td>\n",
       "      <td>HDFC Bank</td>\n",
       "      <td>...</td>\n",
       "      <td>2.0</td>\n",
       "      <td>NaN</td>\n",
       "      <td>NaN</td>\n",
       "      <td>NaN</td>\n",
       "      <td>N</td>\n",
       "      <td>Web-browser</td>\n",
       "      <td>B</td>\n",
       "      <td>S134</td>\n",
       "      <td>3</td>\n",
       "      <td>0</td>\n",
       "    </tr>\n",
       "  </tbody>\n",
       "</table>\n",
       "<p>5 rows × 24 columns</p>\n",
       "</div>"
      ],
      "text/plain": [
       "   Gender       City  Monthly_Income        DOB Lead_Creation_Date  \\\n",
       "0  Female      Delhi           20000  23-May-78          15-May-15   \n",
       "1    Male     Mumbai           35000  07-Oct-85          04-May-15   \n",
       "2    Male  Panchkula           22500  10-Oct-81          19-May-15   \n",
       "3    Male    Saharsa           35000  30-Nov-87          09-May-15   \n",
       "4    Male  Bengaluru          100000  17-Feb-84          20-May-15   \n",
       "\n",
       "   Loan_Amount_Applied  Loan_Tenure_Applied  Existing_EMI  \\\n",
       "0             300000.0                  5.0           0.0   \n",
       "1             200000.0                  2.0           0.0   \n",
       "2             600000.0                  4.0           0.0   \n",
       "3            1000000.0                  5.0           0.0   \n",
       "4             500000.0                  2.0       25000.0   \n",
       "\n",
       "                         Employer_Name       Salary_Account    ...     \\\n",
       "0                              CYBOSOL            HDFC Bank    ...      \n",
       "1  TATA CONSULTANCY SERVICES LTD (TCS)           ICICI Bank    ...      \n",
       "2              ALCHEMIST HOSPITALS LTD  State Bank of India    ...      \n",
       "3                     BIHAR GOVERNMENT  State Bank of India    ...      \n",
       "4                 GLOBAL EDGE SOFTWARE            HDFC Bank    ...      \n",
       "\n",
       "  Loan_Tenure_Submitted  Interest_Rate Processing_Fee  EMI_Loan_Submitted  \\\n",
       "0                   NaN            NaN            NaN                 NaN   \n",
       "1                   2.0          13.25            NaN              6762.9   \n",
       "2                   4.0            NaN            NaN                 NaN   \n",
       "3                   5.0            NaN            NaN                 NaN   \n",
       "4                   2.0            NaN            NaN                 NaN   \n",
       "\n",
       "   Filled_Form  Device_Type  Var2  Source Var4 Disbursed  \n",
       "0            N  Web-browser     G    S122    1         0  \n",
       "1            N  Web-browser     G    S122    3         0  \n",
       "2            N  Web-browser     B    S143    1         0  \n",
       "3            N  Web-browser     B    S143    3         0  \n",
       "4            N  Web-browser     B    S134    3         0  \n",
       "\n",
       "[5 rows x 24 columns]"
      ]
     },
     "execution_count": 5,
     "metadata": {},
     "output_type": "execute_result"
    }
   ],
   "source": [
    "data_new.head()"
   ]
  },
  {
   "cell_type": "code",
   "execution_count": 6,
   "metadata": {},
   "outputs": [
    {
     "data": {
      "text/plain": [
       "(87020, 24)"
      ]
     },
     "execution_count": 6,
     "metadata": {},
     "output_type": "execute_result"
    }
   ],
   "source": [
    "data_new.shape"
   ]
  },
  {
   "cell_type": "code",
   "execution_count": 7,
   "metadata": {
    "scrolled": true
   },
   "outputs": [
    {
     "data": {
      "text/plain": [
       "Index(['Gender', 'City', 'Monthly_Income', 'DOB', 'Lead_Creation_Date',\n",
       "       'Loan_Amount_Applied', 'Loan_Tenure_Applied', 'Existing_EMI',\n",
       "       'Employer_Name', 'Salary_Account', 'Mobile_Verified', 'Var5', 'Var1',\n",
       "       'Loan_Amount_Submitted', 'Loan_Tenure_Submitted', 'Interest_Rate',\n",
       "       'Processing_Fee', 'EMI_Loan_Submitted', 'Filled_Form', 'Device_Type',\n",
       "       'Var2', 'Source', 'Var4', 'Disbursed'],\n",
       "      dtype='object')"
      ]
     },
     "execution_count": 7,
     "metadata": {},
     "output_type": "execute_result"
    }
   ],
   "source": [
    "data_new.columns"
   ]
  },
  {
   "cell_type": "markdown",
   "metadata": {},
   "source": [
    "## Wizualizacja danych we wszystkich kolumnach w zbiorze"
   ]
  },
  {
   "cell_type": "markdown",
   "metadata": {},
   "source": [
    "### Zaprezentowane wykresy oraz ilość nieczytelnych / rozmytych informacji świadczy o koniecznosci ich optymalizacji. "
   ]
  },
  {
   "cell_type": "code",
   "execution_count": 8,
   "metadata": {
    "scrolled": true
   },
   "outputs": [
    {
     "data": {
      "image/png": "[encoded data removed]",
      "text/plain": [
       "<Figure size 1440x1440 with 24 Axes>"
      ]
     },
     "metadata": {
      "needs_background": "light"
     },
     "output_type": "display_data"
    }
   ],
   "source": [
    "# Rysowanie poszczególnych zmiennych \n",
    "import numpy as np\n",
    "import math\n",
    "fig=plt.figure(figsize=(20,20))\n",
    "cols=5\n",
    "rows=math.ceil(float(data_new.shape[1])/cols)\n",
    "for i, column in enumerate(data_new.columns):\n",
    "    ax=fig.add_subplot(rows,cols, i+1)\n",
    "    ax.set_title(column)\n",
    "    if data_new.dtypes[column]==np.object:\n",
    "        data_new[column].value_counts().plot(kind=\"bar\",axes=ax)\n",
    "    else:\n",
    "        data_new[column].hist(axes=ax)\n",
    "        plt.xticks(rotation='vertical')\n",
    "plt.subplots_adjust(hspace=0.7, wspace=0.2)"
   ]
  },
  {
   "cell_type": "code",
   "execution_count": 9,
   "metadata": {
    "scrolled": true
   },
   "outputs": [
    {
     "data": {
      "text/html": [
       "<div>\n",
       "<style scoped>\n",
       "    .dataframe tbody tr th:only-of-type {\n",
       "        vertical-align: middle;\n",
       "    }\n",
       "\n",
       "    .dataframe tbody tr th {\n",
       "        vertical-align: top;\n",
       "    }\n",
       "\n",
       "    .dataframe thead th {\n",
       "        text-align: right;\n",
       "    }\n",
       "</style>\n",
       "<table border=\"1\" class=\"dataframe\">\n",
       "  <thead>\n",
       "    <tr style=\"text-align: right;\">\n",
       "      <th></th>\n",
       "      <th>Monthly_Income</th>\n",
       "      <th>Loan_Amount_Applied</th>\n",
       "      <th>Loan_Tenure_Applied</th>\n",
       "      <th>Existing_EMI</th>\n",
       "      <th>Var5</th>\n",
       "      <th>Loan_Amount_Submitted</th>\n",
       "      <th>Loan_Tenure_Submitted</th>\n",
       "      <th>Interest_Rate</th>\n",
       "      <th>Processing_Fee</th>\n",
       "      <th>EMI_Loan_Submitted</th>\n",
       "      <th>Var4</th>\n",
       "      <th>Disbursed</th>\n",
       "    </tr>\n",
       "  </thead>\n",
       "  <tbody>\n",
       "    <tr>\n",
       "      <th>Monthly_Income</th>\n",
       "      <td>1.000000</td>\n",
       "      <td>0.003050</td>\n",
       "      <td>-0.004282</td>\n",
       "      <td>0.135974</td>\n",
       "      <td>0.020243</td>\n",
       "      <td>0.036595</td>\n",
       "      <td>-0.001746</td>\n",
       "      <td>-0.014963</td>\n",
       "      <td>0.019951</td>\n",
       "      <td>0.034169</td>\n",
       "      <td>0.006089</td>\n",
       "      <td>0.000219</td>\n",
       "    </tr>\n",
       "    <tr>\n",
       "      <th>Loan_Amount_Applied</th>\n",
       "      <td>0.003050</td>\n",
       "      <td>1.000000</td>\n",
       "      <td>0.502259</td>\n",
       "      <td>0.064065</td>\n",
       "      <td>0.320854</td>\n",
       "      <td>0.413282</td>\n",
       "      <td>0.138644</td>\n",
       "      <td>-0.179344</td>\n",
       "      <td>0.189698</td>\n",
       "      <td>0.245000</td>\n",
       "      <td>-0.002743</td>\n",
       "      <td>0.032846</td>\n",
       "    </tr>\n",
       "    <tr>\n",
       "      <th>Loan_Tenure_Applied</th>\n",
       "      <td>-0.004282</td>\n",
       "      <td>0.502259</td>\n",
       "      <td>1.000000</td>\n",
       "      <td>0.054314</td>\n",
       "      <td>0.240422</td>\n",
       "      <td>-0.038525</td>\n",
       "      <td>0.138085</td>\n",
       "      <td>-0.138171</td>\n",
       "      <td>-0.113117</td>\n",
       "      <td>-0.195484</td>\n",
       "      <td>-0.108432</td>\n",
       "      <td>0.037109</td>\n",
       "    </tr>\n",
       "    <tr>\n",
       "      <th>Existing_EMI</th>\n",
       "      <td>0.135974</td>\n",
       "      <td>0.064065</td>\n",
       "      <td>0.054314</td>\n",
       "      <td>1.000000</td>\n",
       "      <td>0.016414</td>\n",
       "      <td>0.011700</td>\n",
       "      <td>0.000468</td>\n",
       "      <td>-0.016446</td>\n",
       "      <td>-0.002936</td>\n",
       "      <td>0.008085</td>\n",
       "      <td>-0.031013</td>\n",
       "      <td>0.015621</td>\n",
       "    </tr>\n",
       "    <tr>\n",
       "      <th>Var5</th>\n",
       "      <td>0.020243</td>\n",
       "      <td>0.320854</td>\n",
       "      <td>0.240422</td>\n",
       "      <td>0.016414</td>\n",
       "      <td>1.000000</td>\n",
       "      <td>0.294662</td>\n",
       "      <td>-0.084105</td>\n",
       "      <td>-0.539847</td>\n",
       "      <td>0.203371</td>\n",
       "      <td>0.276745</td>\n",
       "      <td>0.357712</td>\n",
       "      <td>0.117146</td>\n",
       "    </tr>\n",
       "    <tr>\n",
       "      <th>Loan_Amount_Submitted</th>\n",
       "      <td>0.036595</td>\n",
       "      <td>0.413282</td>\n",
       "      <td>-0.038525</td>\n",
       "      <td>0.011700</td>\n",
       "      <td>0.294662</td>\n",
       "      <td>1.000000</td>\n",
       "      <td>0.381091</td>\n",
       "      <td>-0.320479</td>\n",
       "      <td>0.764074</td>\n",
       "      <td>0.915282</td>\n",
       "      <td>-0.045967</td>\n",
       "      <td>0.043124</td>\n",
       "    </tr>\n",
       "    <tr>\n",
       "      <th>Loan_Tenure_Submitted</th>\n",
       "      <td>-0.001746</td>\n",
       "      <td>0.138644</td>\n",
       "      <td>0.138085</td>\n",
       "      <td>0.000468</td>\n",
       "      <td>-0.084105</td>\n",
       "      <td>0.381091</td>\n",
       "      <td>1.000000</td>\n",
       "      <td>-0.094365</td>\n",
       "      <td>0.306699</td>\n",
       "      <td>0.091181</td>\n",
       "      <td>0.031854</td>\n",
       "      <td>-0.001593</td>\n",
       "    </tr>\n",
       "    <tr>\n",
       "      <th>Interest_Rate</th>\n",
       "      <td>-0.014963</td>\n",
       "      <td>-0.179344</td>\n",
       "      <td>-0.138171</td>\n",
       "      <td>-0.016446</td>\n",
       "      <td>-0.539847</td>\n",
       "      <td>-0.320479</td>\n",
       "      <td>-0.094365</td>\n",
       "      <td>1.000000</td>\n",
       "      <td>-0.111722</td>\n",
       "      <td>-0.242168</td>\n",
       "      <td>0.057337</td>\n",
       "      <td>-0.092410</td>\n",
       "    </tr>\n",
       "    <tr>\n",
       "      <th>Processing_Fee</th>\n",
       "      <td>0.019951</td>\n",
       "      <td>0.189698</td>\n",
       "      <td>-0.113117</td>\n",
       "      <td>-0.002936</td>\n",
       "      <td>0.203371</td>\n",
       "      <td>0.764074</td>\n",
       "      <td>0.306699</td>\n",
       "      <td>-0.111722</td>\n",
       "      <td>1.000000</td>\n",
       "      <td>0.721399</td>\n",
       "      <td>0.097977</td>\n",
       "      <td>0.033229</td>\n",
       "    </tr>\n",
       "    <tr>\n",
       "      <th>EMI_Loan_Submitted</th>\n",
       "      <td>0.034169</td>\n",
       "      <td>0.245000</td>\n",
       "      <td>-0.195484</td>\n",
       "      <td>0.008085</td>\n",
       "      <td>0.276745</td>\n",
       "      <td>0.915282</td>\n",
       "      <td>0.091181</td>\n",
       "      <td>-0.242168</td>\n",
       "      <td>0.721399</td>\n",
       "      <td>1.000000</td>\n",
       "      <td>0.114507</td>\n",
       "      <td>0.049190</td>\n",
       "    </tr>\n",
       "    <tr>\n",
       "      <th>Var4</th>\n",
       "      <td>0.006089</td>\n",
       "      <td>-0.002743</td>\n",
       "      <td>-0.108432</td>\n",
       "      <td>-0.031013</td>\n",
       "      <td>0.357712</td>\n",
       "      <td>-0.045967</td>\n",
       "      <td>0.031854</td>\n",
       "      <td>0.057337</td>\n",
       "      <td>0.097977</td>\n",
       "      <td>0.114507</td>\n",
       "      <td>1.000000</td>\n",
       "      <td>0.036697</td>\n",
       "    </tr>\n",
       "    <tr>\n",
       "      <th>Disbursed</th>\n",
       "      <td>0.000219</td>\n",
       "      <td>0.032846</td>\n",
       "      <td>0.037109</td>\n",
       "      <td>0.015621</td>\n",
       "      <td>0.117146</td>\n",
       "      <td>0.043124</td>\n",
       "      <td>-0.001593</td>\n",
       "      <td>-0.092410</td>\n",
       "      <td>0.033229</td>\n",
       "      <td>0.049190</td>\n",
       "      <td>0.036697</td>\n",
       "      <td>1.000000</td>\n",
       "    </tr>\n",
       "  </tbody>\n",
       "</table>\n",
       "</div>"
      ],
      "text/plain": [
       "                       Monthly_Income  Loan_Amount_Applied  \\\n",
       "Monthly_Income               1.000000             0.003050   \n",
       "Loan_Amount_Applied          0.003050             1.000000   \n",
       "Loan_Tenure_Applied         -0.004282             0.502259   \n",
       "Existing_EMI                 0.135974             0.064065   \n",
       "Var5                         0.020243             0.320854   \n",
       "Loan_Amount_Submitted        0.036595             0.413282   \n",
       "Loan_Tenure_Submitted       -0.001746             0.138644   \n",
       "Interest_Rate               -0.014963            -0.179344   \n",
       "Processing_Fee               0.019951             0.189698   \n",
       "EMI_Loan_Submitted           0.034169             0.245000   \n",
       "Var4                         0.006089            -0.002743   \n",
       "Disbursed                    0.000219             0.032846   \n",
       "\n",
       "                       Loan_Tenure_Applied  Existing_EMI      Var5  \\\n",
       "Monthly_Income                   -0.004282      0.135974  0.020243   \n",
       "Loan_Amount_Applied               0.502259      0.064065  0.320854   \n",
       "Loan_Tenure_Applied               1.000000      0.054314  0.240422   \n",
       "Existing_EMI                      0.054314      1.000000  0.016414   \n",
       "Var5                              0.240422      0.016414  1.000000   \n",
       "Loan_Amount_Submitted            -0.038525      0.011700  0.294662   \n",
       "Loan_Tenure_Submitted             0.138085      0.000468 -0.084105   \n",
       "Interest_Rate                    -0.138171     -0.016446 -0.539847   \n",
       "Processing_Fee                   -0.113117     -0.002936  0.203371   \n",
       "EMI_Loan_Submitted               -0.195484      0.008085  0.276745   \n",
       "Var4                             -0.108432     -0.031013  0.357712   \n",
       "Disbursed                         0.037109      0.015621  0.117146   \n",
       "\n",
       "                       Loan_Amount_Submitted  Loan_Tenure_Submitted  \\\n",
       "Monthly_Income                      0.036595              -0.001746   \n",
       "Loan_Amount_Applied                 0.413282               0.138644   \n",
       "Loan_Tenure_Applied                -0.038525               0.138085   \n",
       "Existing_EMI                        0.011700               0.000468   \n",
       "Var5                                0.294662              -0.084105   \n",
       "Loan_Amount_Submitted               1.000000               0.381091   \n",
       "Loan_Tenure_Submitted               0.381091               1.000000   \n",
       "Interest_Rate                      -0.320479              -0.094365   \n",
       "Processing_Fee                      0.764074               0.306699   \n",
       "EMI_Loan_Submitted                  0.915282               0.091181   \n",
       "Var4                               -0.045967               0.031854   \n",
       "Disbursed                           0.043124              -0.001593   \n",
       "\n",
       "                       Interest_Rate  Processing_Fee  EMI_Loan_Submitted  \\\n",
       "Monthly_Income             -0.014963        0.019951            0.034169   \n",
       "Loan_Amount_Applied        -0.179344        0.189698            0.245000   \n",
       "Loan_Tenure_Applied        -0.138171       -0.113117           -0.195484   \n",
       "Existing_EMI               -0.016446       -0.002936            0.008085   \n",
       "Var5                       -0.539847        0.203371            0.276745   \n",
       "Loan_Amount_Submitted      -0.320479        0.764074            0.915282   \n",
       "Loan_Tenure_Submitted      -0.094365        0.306699            0.091181   \n",
       "Interest_Rate               1.000000       -0.111722           -0.242168   \n",
       "Processing_Fee             -0.111722        1.000000            0.721399   \n",
       "EMI_Loan_Submitted         -0.242168        0.721399            1.000000   \n",
       "Var4                        0.057337        0.097977            0.114507   \n",
       "Disbursed                  -0.092410        0.033229            0.049190   \n",
       "\n",
       "                           Var4  Disbursed  \n",
       "Monthly_Income         0.006089   0.000219  \n",
       "Loan_Amount_Applied   -0.002743   0.032846  \n",
       "Loan_Tenure_Applied   -0.108432   0.037109  \n",
       "Existing_EMI          -0.031013   0.015621  \n",
       "Var5                   0.357712   0.117146  \n",
       "Loan_Amount_Submitted -0.045967   0.043124  \n",
       "Loan_Tenure_Submitted  0.031854  -0.001593  \n",
       "Interest_Rate          0.057337  -0.092410  \n",
       "Processing_Fee         0.097977   0.033229  \n",
       "EMI_Loan_Submitted     0.114507   0.049190  \n",
       "Var4                   1.000000   0.036697  \n",
       "Disbursed              0.036697   1.000000  "
      ]
     },
     "execution_count": 9,
     "metadata": {},
     "output_type": "execute_result"
    }
   ],
   "source": [
    "data_new.corr()"
   ]
  },
  {
   "cell_type": "code",
   "execution_count": 10,
   "metadata": {
    "scrolled": false
   },
   "outputs": [],
   "source": [
    "## Nie ma sensu dla wszystkich danych - tylko dla danych numerycznych nie kategorycznych - data_new.describe"
   ]
  },
  {
   "cell_type": "code",
   "execution_count": 11,
   "metadata": {
    "scrolled": false
   },
   "outputs": [
    {
     "data": {
      "text/plain": [
       "count        87020.0\n",
       "mean         58850.0\n",
       "std        2177511.0\n",
       "min              0.0\n",
       "25%          16500.0\n",
       "50%          25000.0\n",
       "75%          40000.0\n",
       "max      444554443.0\n",
       "Name: Monthly_Income, dtype: float64"
      ]
     },
     "execution_count": 11,
     "metadata": {},
     "output_type": "execute_result"
    }
   ],
   "source": [
    "data_new['Monthly_Income'].describe().round()"
   ]
  },
  {
   "cell_type": "markdown",
   "metadata": {},
   "source": [
    "### Czyszczenie danych - zmiana danych tekstowych na numeryczne"
   ]
  },
  {
   "cell_type": "code",
   "execution_count": 12,
   "metadata": {
    "scrolled": true
   },
   "outputs": [
    {
     "name": "stdout",
     "output_type": "stream",
     "text": [
      "<class 'pandas.core.frame.DataFrame'>\n",
      "RangeIndex: 87020 entries, 0 to 87019\n",
      "Data columns (total 24 columns):\n",
      "Gender                   87020 non-null object\n",
      "City                     86017 non-null object\n",
      "Monthly_Income           87020 non-null int64\n",
      "DOB                      87020 non-null object\n",
      "Lead_Creation_Date       87020 non-null object\n",
      "Loan_Amount_Applied      86949 non-null float64\n",
      "Loan_Tenure_Applied      86949 non-null float64\n",
      "Existing_EMI             86949 non-null float64\n",
      "Employer_Name            86949 non-null object\n",
      "Salary_Account           75256 non-null object\n",
      "Mobile_Verified          87020 non-null object\n",
      "Var5                     87020 non-null int64\n",
      "Var1                     87020 non-null object\n",
      "Loan_Amount_Submitted    52407 non-null float64\n",
      "Loan_Tenure_Submitted    52407 non-null float64\n",
      "Interest_Rate            27726 non-null float64\n",
      "Processing_Fee           27420 non-null float64\n",
      "EMI_Loan_Submitted       27726 non-null float64\n",
      "Filled_Form              87020 non-null object\n",
      "Device_Type              87020 non-null object\n",
      "Var2                     87020 non-null object\n",
      "Source                   87020 non-null object\n",
      "Var4                     87020 non-null int64\n",
      "Disbursed                87020 non-null int64\n",
      "dtypes: float64(8), int64(4), object(12)\n",
      "memory usage: 15.9+ MB\n"
     ]
    }
   ],
   "source": [
    "data_new.info()"
   ]
  },
  {
   "cell_type": "markdown",
   "metadata": {},
   "source": [
    "### GENDER"
   ]
  },
  {
   "cell_type": "code",
   "execution_count": 13,
   "metadata": {},
   "outputs": [
    {
     "data": {
      "text/plain": [
       "Male      49848\n",
       "Female    37172\n",
       "Name: Gender, dtype: int64"
      ]
     },
     "execution_count": 13,
     "metadata": {},
     "output_type": "execute_result"
    }
   ],
   "source": [
    "data_new['Gender'].value_counts()"
   ]
  },
  {
   "cell_type": "code",
   "execution_count": 14,
   "metadata": {},
   "outputs": [],
   "source": [
    "data_new['Gender'] = data_new['Gender'].map( {'Female': 0, 'Male': 1} ).astype(int)"
   ]
  },
  {
   "cell_type": "code",
   "execution_count": 15,
   "metadata": {},
   "outputs": [
    {
     "data": {
      "text/plain": [
       "1    49848\n",
       "0    37172\n",
       "Name: Gender, dtype: int64"
      ]
     },
     "execution_count": 15,
     "metadata": {},
     "output_type": "execute_result"
    }
   ],
   "source": [
    "data_new['Gender'].value_counts()"
   ]
  },
  {
   "cell_type": "markdown",
   "metadata": {},
   "source": [
    "### DEVICE TYPE"
   ]
  },
  {
   "cell_type": "code",
   "execution_count": 16,
   "metadata": {},
   "outputs": [
    {
     "data": {
      "text/plain": [
       "Web-browser    64316\n",
       "Mobile         22704\n",
       "Name: Device_Type, dtype: int64"
      ]
     },
     "execution_count": 16,
     "metadata": {},
     "output_type": "execute_result"
    }
   ],
   "source": [
    "data_new['Device_Type'].value_counts()"
   ]
  },
  {
   "cell_type": "code",
   "execution_count": 17,
   "metadata": {},
   "outputs": [],
   "source": [
    "data_new['Device_Type'] = data_new['Device_Type'].map( {'Mobile': 0, 'Web-browser': 1} ).astype(int)"
   ]
  },
  {
   "cell_type": "code",
   "execution_count": 18,
   "metadata": {
    "scrolled": true
   },
   "outputs": [
    {
     "data": {
      "text/plain": [
       "1    64316\n",
       "0    22704\n",
       "Name: Device_Type, dtype: int64"
      ]
     },
     "execution_count": 18,
     "metadata": {},
     "output_type": "execute_result"
    }
   ],
   "source": [
    "data_new['Device_Type'].value_counts()"
   ]
  },
  {
   "cell_type": "markdown",
   "metadata": {},
   "source": [
    "### MOBILE VERIFIED"
   ]
  },
  {
   "cell_type": "code",
   "execution_count": 19,
   "metadata": {},
   "outputs": [
    {
     "data": {
      "text/plain": [
       "Y    56481\n",
       "N    30539\n",
       "Name: Mobile_Verified, dtype: int64"
      ]
     },
     "execution_count": 19,
     "metadata": {},
     "output_type": "execute_result"
    }
   ],
   "source": [
    "data_new['Mobile_Verified'].value_counts()"
   ]
  },
  {
   "cell_type": "code",
   "execution_count": 20,
   "metadata": {},
   "outputs": [],
   "source": [
    "data_new['Mobile_Verified'] = data_new['Mobile_Verified'].map( {'N': 0, 'Y': 1} ).astype(int)"
   ]
  },
  {
   "cell_type": "code",
   "execution_count": 21,
   "metadata": {},
   "outputs": [
    {
     "data": {
      "text/plain": [
       "1    56481\n",
       "0    30539\n",
       "Name: Mobile_Verified, dtype: int64"
      ]
     },
     "execution_count": 21,
     "metadata": {},
     "output_type": "execute_result"
    }
   ],
   "source": [
    "data_new['Mobile_Verified'].value_counts()"
   ]
  },
  {
   "cell_type": "markdown",
   "metadata": {},
   "source": [
    "### FILLED_FORM"
   ]
  },
  {
   "cell_type": "code",
   "execution_count": 22,
   "metadata": {},
   "outputs": [
    {
     "data": {
      "text/plain": [
       "N    67530\n",
       "Y    19490\n",
       "Name: Filled_Form, dtype: int64"
      ]
     },
     "execution_count": 22,
     "metadata": {},
     "output_type": "execute_result"
    }
   ],
   "source": [
    "data_new['Filled_Form'].value_counts()"
   ]
  },
  {
   "cell_type": "code",
   "execution_count": 23,
   "metadata": {},
   "outputs": [],
   "source": [
    "data_new['Filled_Form'] = data_new['Filled_Form'].map( {'N': 0, 'Y': 1} ).astype(int)"
   ]
  },
  {
   "cell_type": "code",
   "execution_count": 24,
   "metadata": {},
   "outputs": [
    {
     "data": {
      "text/plain": [
       "0    67530\n",
       "1    19490\n",
       "Name: Filled_Form, dtype: int64"
      ]
     },
     "execution_count": 24,
     "metadata": {},
     "output_type": "execute_result"
    }
   ],
   "source": [
    "data_new['Filled_Form'].value_counts()"
   ]
  },
  {
   "cell_type": "markdown",
   "metadata": {},
   "source": [
    "### Wiek w dniach na podstawie daty urodzenia i daty złożenia wniosku\n"
   ]
  },
  {
   "cell_type": "markdown",
   "metadata": {},
   "source": [
    "### DOB"
   ]
  },
  {
   "cell_type": "code",
   "execution_count": 25,
   "metadata": {
    "scrolled": false
   },
   "outputs": [
    {
     "data": {
      "text/plain": [
       "count         87020\n",
       "unique        11345\n",
       "top       11-Nov-80\n",
       "freq            306\n",
       "Name: DOB, dtype: object"
      ]
     },
     "execution_count": 25,
     "metadata": {},
     "output_type": "execute_result"
    }
   ],
   "source": [
    "data_new['DOB'].describe()"
   ]
  },
  {
   "cell_type": "code",
   "execution_count": 26,
   "metadata": {},
   "outputs": [],
   "source": [
    "# Próba prostego przekształcenia kolumny DOB na datę"
   ]
  },
  {
   "cell_type": "code",
   "execution_count": 27,
   "metadata": {},
   "outputs": [
    {
     "name": "stdout",
     "output_type": "stream",
     "text": [
      "min DOB 1969-01-01 00:00:00\n",
      "max DOB 2068-12-29 00:00:00\n"
     ]
    }
   ],
   "source": [
    "DOB_new = pd.to_datetime(data_new['DOB'])\n",
    "print('min DOB', DOB_new.min())\n",
    "print('max DOB', DOB_new.max())"
   ]
  },
  {
   "cell_type": "code",
   "execution_count": 28,
   "metadata": {},
   "outputs": [],
   "source": [
    "# Korekcja danych w kolumnie DOB z uwzględnieniem świata realnego - [ Data urodzenia w przyszłość ]"
   ]
  },
  {
   "cell_type": "code",
   "execution_count": 29,
   "metadata": {
    "scrolled": true
   },
   "outputs": [],
   "source": [
    "data_new['DOB_new'] = ['-'.join([item.split('-')[0],item.split('-')[1],'19' + item.split('-')[2]]) for item in data['DOB']]"
   ]
  },
  {
   "cell_type": "code",
   "execution_count": 30,
   "metadata": {},
   "outputs": [],
   "source": [
    "data_new['DOB_new'] = pd.to_datetime(data_new['DOB_new'])"
   ]
  },
  {
   "cell_type": "code",
   "execution_count": 31,
   "metadata": {},
   "outputs": [
    {
     "name": "stdout",
     "output_type": "stream",
     "text": [
      "min DOB 1915-06-20 00:00:00\n",
      "max DOB 1997-12-25 00:00:00\n"
     ]
    }
   ],
   "source": [
    "print('min DOB', data_new['DOB_new'].min())\n",
    "print('max DOB', data_new['DOB_new'].max())"
   ]
  },
  {
   "cell_type": "markdown",
   "metadata": {},
   "source": [
    "### Lead_Creation_Date"
   ]
  },
  {
   "cell_type": "code",
   "execution_count": 32,
   "metadata": {},
   "outputs": [],
   "source": [
    "data_new['Lead_Creation_Date_new'] = pd.to_datetime(data_new['Lead_Creation_Date'])"
   ]
  },
  {
   "cell_type": "markdown",
   "metadata": {},
   "source": [
    "### Age in Days"
   ]
  },
  {
   "cell_type": "code",
   "execution_count": 33,
   "metadata": {},
   "outputs": [],
   "source": [
    "# Wiek na dzień zawarcia pożyczki -> Poprawna data zawarcia pożyczki - poprawna data urodzenia.\n",
    "data_new['Age_In_Days'] = (data_new['Lead_Creation_Date_new']-data_new['DOB_new']).astype('timedelta64[D]')"
   ]
  },
  {
   "cell_type": "markdown",
   "metadata": {},
   "source": [
    "# Deklaracja stałych \n",
    "### Wartości progowe poniżej których dane kodujemy jako 'OTHER', "
   ]
  },
  {
   "cell_type": "code",
   "execution_count": 34,
   "metadata": {},
   "outputs": [],
   "source": [
    "TRESHOLD = 1\n",
    "SALARY_ACCOUNT_TRESHOLD = 0.75\n",
    "CITY_TRESHOLD = 20\n",
    "EMPLOYER_NAME_TRESHOLD = 30\n",
    "SOURCE_TRESHOLD = 1000"
   ]
  },
  {
   "cell_type": "markdown",
   "metadata": {},
   "source": [
    "### VAR1"
   ]
  },
  {
   "cell_type": "code",
   "execution_count": 35,
   "metadata": {
    "scrolled": true
   },
   "outputs": [
    {
     "data": {
      "text/plain": [
       "array(['HBXX', 'HBXA', 'HAXM', 'HAXB', 'HBXC', 'HBXD', 'HBXH', 'HAXA',\n",
       "       'HBXB', 'HAYT', 'HCXD', 'HVYS', 'HAVC', 'HCXG', 'HAZD', 'HCYS',\n",
       "       'HCXF', 'HAXC', 'HAXF'], dtype=object)"
      ]
     },
     "execution_count": 35,
     "metadata": {},
     "output_type": "execute_result"
    }
   ],
   "source": [
    "data_new['Var1'].unique()"
   ]
  },
  {
   "cell_type": "code",
   "execution_count": 36,
   "metadata": {},
   "outputs": [],
   "source": [
    "map_var1 = dict()\n",
    "for _, item in enumerate(data_new.Var1.value_counts()):\n",
    "    if 100 * (item / data_new.shape[0]) < TRESHOLD:\n",
    "        key = data_new.Var1.value_counts().index[_]\n",
    "        map_var1[key] = 'OTHER'"
   ]
  },
  {
   "cell_type": "code",
   "execution_count": 37,
   "metadata": {},
   "outputs": [],
   "source": [
    "data_new.Var1.replace(to_replace=map_var1, inplace=True)"
   ]
  },
  {
   "cell_type": "code",
   "execution_count": 38,
   "metadata": {},
   "outputs": [
    {
     "data": {
      "text/plain": [
       "Text(0.5, 0, 'Var1')"
      ]
     },
     "execution_count": 38,
     "metadata": {},
     "output_type": "execute_result"
    },
    {
     "data": {
      "image/png": "[encoded data removed]",
      "text/plain": [
       "<Figure size 432x288 with 1 Axes>"
      ]
     },
     "metadata": {},
     "output_type": "display_data"
    }
   ],
   "source": [
    "Var1 = data_new['Var1'].value_counts()\n",
    "sns.set(style=\"darkgrid\")\n",
    "ax = sns.barplot(Var1.index, Var1.values)\n",
    "#ax.set_xticks([])\n",
    "plt.title('Frequency Distribution of Var1')\n",
    "plt.ylabel('Number of Occurrences', fontsize=12)\n",
    "plt.xlabel('Var1', fontsize=10)"
   ]
  },
  {
   "cell_type": "markdown",
   "metadata": {},
   "source": [
    "### VAR2"
   ]
  },
  {
   "cell_type": "code",
   "execution_count": 39,
   "metadata": {},
   "outputs": [],
   "source": [
    "map_var2 = dict()\n",
    "for _, item in enumerate(data_new.Var2.value_counts()):\n",
    "    if 100 * (item / data_new.shape[0]) < TRESHOLD:\n",
    "        key = data_new.Var2.value_counts().index[_]\n",
    "        map_var2[key] = 'OTHER'"
   ]
  },
  {
   "cell_type": "code",
   "execution_count": 40,
   "metadata": {},
   "outputs": [],
   "source": [
    "data_new.Var2.replace(to_replace=map_var2, inplace=True)"
   ]
  },
  {
   "cell_type": "code",
   "execution_count": 41,
   "metadata": {},
   "outputs": [
    {
     "data": {
      "text/plain": [
       "Text(0.5, 0, 'Var2')"
      ]
     },
     "execution_count": 41,
     "metadata": {},
     "output_type": "execute_result"
    },
    {
     "data": {
      "image/png": "[encoded data removed]",
      "text/plain": [
       "<Figure size 432x288 with 1 Axes>"
      ]
     },
     "metadata": {},
     "output_type": "display_data"
    }
   ],
   "source": [
    "Var2 = data_new['Var2'].value_counts()\n",
    "sns.set(style=\"darkgrid\")\n",
    "ax = sns.barplot(Var2.index, Var2.values)\n",
    "#ax.set_xticks([])\n",
    "plt.title('Frequency Distribution of Var2')\n",
    "plt.ylabel('Number of Occurrences', fontsize=12)\n",
    "plt.xlabel('Var2', fontsize=12)"
   ]
  },
  {
   "cell_type": "markdown",
   "metadata": {},
   "source": [
    "### SALARY_ACCOUNT"
   ]
  },
  {
   "cell_type": "code",
   "execution_count": 46,
   "metadata": {
    "scrolled": true
   },
   "outputs": [
    {
     "name": "stdout",
     "output_type": "stream",
     "text": [
      "0 HDFC Bank : 17695 : 20.334405883704896\n",
      "1 ICICI Bank : 13636 : 15.669960928522178\n",
      "2 State Bank of India : 11843 : 13.609515054010574\n",
      "3 OTHER : 9416 : 10.820501034245002\n",
      "4 Axis Bank : 8783 : 10.093082050103424\n",
      "5 Citibank : 2376 : 2.7304068030337856\n",
      "6 Kotak Bank : 2067 : 2.375316019305907\n",
      "7 IDBI Bank : 1550 : 1.7811997242013329\n",
      "8 Punjab National Bank : 1201 : 1.3801424959779363\n",
      "9 Bank of India : 1170 : 1.3445185014939096\n",
      "10 Bank of Baroda : 1126 : 1.2939554125488393\n",
      "11 Standard Chartered Bank : 995 : 1.143415306826017\n",
      "12 Canara Bank : 990 : 1.1376695012640774\n",
      "13 Union Bank of India : 951 : 1.0928522178809468\n",
      "14 Yes Bank : 779 : 0.8951965065502183\n",
      "15 ING Vysya : 678 : 0.7791312341990347\n"
     ]
    }
   ],
   "source": [
    "suma = 0\n",
    "for _, item in enumerate(data_new.Salary_Account.value_counts()):\n",
    "    suma += item / data_new.shape[0]\n",
    "    print(_, data_new.Salary_Account.value_counts().index[_], ':' , item, ':',100 * (item / data_new.shape[0]))\n",
    "    if _ > 15 :\n",
    "        break"
   ]
  },
  {
   "cell_type": "code",
   "execution_count": 47,
   "metadata": {},
   "outputs": [],
   "source": [
    "map_Salary_Account = dict()\n",
    "for _, item in enumerate(data_new.Salary_Account.value_counts()):\n",
    "    if 100 * (item / data_new.shape[0]) < SALARY_ACCOUNT_TRESHOLD:\n",
    "        key = data_new.Salary_Account.value_counts().index[_]\n",
    "        map_Salary_Account[key] = 'OTHER'"
   ]
  },
  {
   "cell_type": "code",
   "execution_count": 48,
   "metadata": {},
   "outputs": [],
   "source": [
    "data_new.Salary_Account.replace(to_replace=map_Salary_Account, inplace=True)"
   ]
  },
  {
   "cell_type": "markdown",
   "metadata": {},
   "source": [
    "### Salary_Account - braki\n",
    "Wypłata do ręki dlatego nie mogę usunąć uzupełniam wartością \"None\""
   ]
  },
  {
   "cell_type": "code",
   "execution_count": 49,
   "metadata": {},
   "outputs": [],
   "source": [
    "data_new['Salary_Account'].fillna('None',inplace=True)"
   ]
  },
  {
   "cell_type": "code",
   "execution_count": 50,
   "metadata": {
    "scrolled": true
   },
   "outputs": [
    {
     "data": {
      "text/plain": [
       "HDFC Bank                  17695\n",
       "ICICI Bank                 13636\n",
       "State Bank of India        11843\n",
       "None                       11764\n",
       "OTHER                       9416\n",
       "Axis Bank                   8783\n",
       "Citibank                    2376\n",
       "Kotak Bank                  2067\n",
       "IDBI Bank                   1550\n",
       "Punjab National Bank        1201\n",
       "Bank of India               1170\n",
       "Bank of Baroda              1126\n",
       "Standard Chartered Bank      995\n",
       "Canara Bank                  990\n",
       "Union Bank of India          951\n",
       "Yes Bank                     779\n",
       "ING Vysya                    678\n",
       "Name: Salary_Account, dtype: int64"
      ]
     },
     "execution_count": 50,
     "metadata": {},
     "output_type": "execute_result"
    }
   ],
   "source": [
    "data_new['Salary_Account'].value_counts()"
   ]
  },
  {
   "cell_type": "code",
   "execution_count": 51,
   "metadata": {},
   "outputs": [
    {
     "data": {
      "text/plain": [
       "Text(0.5, 0, 'Salary_Account')"
      ]
     },
     "execution_count": 51,
     "metadata": {},
     "output_type": "execute_result"
    },
    {
     "data": {
      "image/png": "[encoded data removed]",
      "text/plain": [
       "<Figure size 432x288 with 1 Axes>"
      ]
     },
     "metadata": {},
     "output_type": "display_data"
    }
   ],
   "source": [
    "Salary_Account = data_new['Salary_Account'].value_counts()\n",
    "sns.set(style=\"darkgrid\")\n",
    "ax = sns.barplot(Salary_Account.index, Salary_Account.values)\n",
    "ax.set_xticks([])\n",
    "plt.title('Frequency Distribution of Salary_Account')\n",
    "plt.ylabel('Number of Occurrences', fontsize=12)\n",
    "plt.xlabel('Salary_Account', fontsize=10)"
   ]
  },
  {
   "cell_type": "code",
   "execution_count": 52,
   "metadata": {},
   "outputs": [
    {
     "data": {
      "text/plain": [
       "array(['HDFC Bank', 'ICICI Bank', 'State Bank of India', 'OTHER',\n",
       "       'Yes Bank', 'None', 'Kotak Bank', 'Axis Bank',\n",
       "       'Standard Chartered Bank', 'Bank of India', 'Citibank',\n",
       "       'Punjab National Bank', 'Bank of Baroda', 'Canara Bank',\n",
       "       'IDBI Bank', 'Union Bank of India', 'ING Vysya'], dtype=object)"
      ]
     },
     "execution_count": 52,
     "metadata": {},
     "output_type": "execute_result"
    }
   ],
   "source": [
    "data_new['Salary_Account'].unique()"
   ]
  },
  {
   "cell_type": "markdown",
   "metadata": {},
   "source": [
    "### CITY"
   ]
  },
  {
   "cell_type": "code",
   "execution_count": 53,
   "metadata": {},
   "outputs": [],
   "source": [
    "suma = 0\n",
    "for _, item in enumerate(data_new.City.value_counts()):\n",
    "    suma += item / data_new.shape[0]\n",
    "    if _ > CITY_TRESHOLD:\n",
    "        break"
   ]
  },
  {
   "cell_type": "code",
   "execution_count": 54,
   "metadata": {},
   "outputs": [],
   "source": [
    "map_city = dict()\n",
    "for _, item in enumerate(data_new.City.value_counts()):\n",
    "    if 100 * (item / data_new.shape[0]) < TRESHOLD:\n",
    "        key = data_new.City.value_counts().index[_]\n",
    "        map_city[key] = 'OTHER'"
   ]
  },
  {
   "cell_type": "code",
   "execution_count": 55,
   "metadata": {},
   "outputs": [],
   "source": [
    "data_new.City.replace(to_replace=map_city, inplace=True)"
   ]
  },
  {
   "cell_type": "code",
   "execution_count": 56,
   "metadata": {},
   "outputs": [],
   "source": [
    "data_new['City'].fillna('OTHER',inplace=True)"
   ]
  },
  {
   "cell_type": "code",
   "execution_count": 57,
   "metadata": {
    "scrolled": false
   },
   "outputs": [
    {
     "data": {
      "text/plain": [
       "OTHER         24208\n",
       "Delhi         12527\n",
       "Bengaluru     10824\n",
       "Mumbai        10795\n",
       "Hyderabad      7272\n",
       "Chennai        6916\n",
       "Pune           5207\n",
       "Kolkata        2888\n",
       "Ahmedabad      1788\n",
       "Jaipur         1331\n",
       "Gurgaon        1212\n",
       "Coimbatore     1147\n",
       "Thane           905\n",
       "Name: City, dtype: int64"
      ]
     },
     "execution_count": 57,
     "metadata": {},
     "output_type": "execute_result"
    }
   ],
   "source": [
    "data_new.City.value_counts()"
   ]
  },
  {
   "cell_type": "code",
   "execution_count": 58,
   "metadata": {},
   "outputs": [
    {
     "data": {
      "text/plain": [
       "Text(0.5, 0, 'City')"
      ]
     },
     "execution_count": 58,
     "metadata": {},
     "output_type": "execute_result"
    },
    {
     "data": {
      "image/png": "[encoded data removed]",
      "text/plain": [
       "<Figure size 432x288 with 1 Axes>"
      ]
     },
     "metadata": {},
     "output_type": "display_data"
    }
   ],
   "source": [
    "City = data_new['City'].value_counts()\n",
    "sns.set(style=\"darkgrid\")\n",
    "ax = sns.barplot(City.index, City.values)\n",
    "ax.set_xticks([])\n",
    "plt.title('Frequency Distribution of City')\n",
    "plt.ylabel('Number of Occurrences', fontsize=12)\n",
    "plt.xlabel('City', fontsize=12)"
   ]
  },
  {
   "cell_type": "markdown",
   "metadata": {},
   "source": [
    "### EMPLOYER NAME"
   ]
  },
  {
   "cell_type": "code",
   "execution_count": 59,
   "metadata": {
    "scrolled": true
   },
   "outputs": [
    {
     "data": {
      "text/plain": [
       "0                                               4914\n",
       "TATA CONSULTANCY SERVICES LTD (TCS)              550\n",
       "COGNIZANT TECHNOLOGY SOLUTIONS INDIA PVT LTD     404\n",
       "ACCENTURE SERVICES PVT LTD                       324\n",
       "GOOGLE                                           301\n",
       "HCL TECHNOLOGIES LTD                             250\n",
       "ICICI BANK LTD                                   239\n",
       "INDIAN AIR FORCE                                 191\n",
       "INFOSYS TECHNOLOGIES                             181\n",
       "GENPACT                                          179\n",
       "IBM CORPORATION                                  173\n",
       "INDIAN ARMY                                      171\n",
       "TYPE SLOWLY FOR AUTO FILL                        162\n",
       "WIPRO TECHNOLOGIES                               155\n",
       "HDFC BANK LTD                                    148\n",
       "IKYA HUMAN CAPITAL SOLUTIONS LTD                 142\n",
       "STATE GOVERNMENT                                 134\n",
       "INDIAN RAILWAY                                   130\n",
       "INDIAN NAVY                                      128\n",
       "ARMY                                             126\n",
       "WIPRO BPO                                        116\n",
       "OTHERS                                           115\n",
       "TECH MAHINDRA LTD                                113\n",
       "CONVERGYS INDIA SERVICES PVT LTD                 113\n",
       "SERCO BPO PVT LTD                                108\n",
       "IBM GLOBAL SERVICES INDIA LTD                    104\n",
       "CONCENTRIX DAKSH SERVICES INDIA PVT LTD           99\n",
       "CAPGEMINI INDIA PVT LTD                           96\n",
       "RANDSTAD INDIA LTD                                96\n",
       "ADECCO INDIA PVT LTD                              95\n",
       "                                                ... \n",
       "YOGESH SUNE                                        1\n",
       "ASHOK&PAN BAHAR CO.LTD                             1\n",
       "RALWAYA                                            1\n",
       "TEAMLEASE                                          1\n",
       "FLOTECH ENGINEERING PVT LTD.                       1\n",
       "UP.AWAS VIKASH PRISAD.                             1\n",
       "FRANCIS WACZIARG AGENCIES PVT LTD                  1\n",
       "HELLOCURRY                                         1\n",
       "THE INDIAN SCHOOL                                  1\n",
       "RAKESH SINGH                                       1\n",
       "SEAPORT LOGISTICS                                  1\n",
       "BHAVNAGAR ENERGY COMPANY LIMIT                     1\n",
       "PAISABAZAAR.COM                                    1\n",
       "KAHAR VINOD                                        1\n",
       "SHREEJI JEWELRY PRT.LTD                            1\n",
       "PRINCIPAL GOVT PU COLLEGE                          1\n",
       "GAWRESH CHAND                                      1\n",
       "KENDRIYA VIDYALAYA MYSORE                          1\n",
       "ACCRETE ENGINEERING PVT LTD                        1\n",
       "GOVT COLLEGE OF EDUCATION                          1\n",
       "MSME TOOL ROOM KOLKATA                             1\n",
       "BARODA TAXI CABS                                   1\n",
       "RAIGAD ZILLA PARASHID                              1\n",
       "SHIVAM INFOTECH PVT LTD                            1\n",
       "INDIAN IOL SKYTANKING                              1\n",
       "MATHAVAN                                           1\n",
       "PAMI METALS PVT LTD.                               1\n",
       "JINSON                                             1\n",
       "COGNITO ADVERTISING                                1\n",
       "UPPU LAXMINARAYANA                                 1\n",
       "Name: Employer_Name, Length: 43567, dtype: int64"
      ]
     },
     "execution_count": 59,
     "metadata": {},
     "output_type": "execute_result"
    }
   ],
   "source": [
    "data_new.Employer_Name.value_counts()"
   ]
  },
  {
   "cell_type": "markdown",
   "metadata": {},
   "source": [
    "##### Uzupełniam braki w kolumnie wartością \"0\""
   ]
  },
  {
   "cell_type": "code",
   "execution_count": 60,
   "metadata": {},
   "outputs": [],
   "source": [
    "data_new['Employer_Name'].fillna('0',inplace=True)"
   ]
  },
  {
   "cell_type": "markdown",
   "metadata": {},
   "source": [
    "##### Braki w kolumnie, wartości \"OTHERS\", \"Type i podobne\" zastępuję jedną wspólną wartością \"OTHER\""
   ]
  },
  {
   "cell_type": "code",
   "execution_count": 61,
   "metadata": {},
   "outputs": [],
   "source": [
    "others_emp = ['TYPE SLOWLY FOR AUTO FILL', '0', 'OTHERS']\n",
    "data_new.loc[data_new['Employer_Name'].isin(others_emp), 'Employer_Name'] = 'OTHER'"
   ]
  },
  {
   "cell_type": "markdown",
   "metadata": {},
   "source": [
    "##### Uwzględniam pracodawców różnie wpisanych np. (IBM, TATA)"
   ]
  },
  {
   "cell_type": "code",
   "execution_count": 62,
   "metadata": {},
   "outputs": [],
   "source": [
    "data_new.loc[data_new['Employer_Name'].str.contains('IBM'), 'Employer_Name'] = 'IBM'\n",
    "data_new.loc[data_new['Employer_Name'].str.contains('TATA'), 'Employer_Name'] = 'TATA CAPITAL GROUP'"
   ]
  },
  {
   "cell_type": "markdown",
   "metadata": {},
   "source": [
    "##### Do analizy biorę tylko firmy , których pracownicy najczęściej otrzymują pożyczk.\n",
    "Liczba pracowaców : EMPLOYER_NAME_TRESHOLD"
   ]
  },
  {
   "cell_type": "code",
   "execution_count": 63,
   "metadata": {
    "scrolled": true
   },
   "outputs": [],
   "source": [
    "emp_importance = data_new.groupby('Employer_Name')['Disbursed'].sum().sort_values(ascending=False)\n",
    "emp_important = list(emp_importance[:EMPLOYER_NAME_TRESHOLD].index)"
   ]
  },
  {
   "cell_type": "code",
   "execution_count": 66,
   "metadata": {},
   "outputs": [
    {
     "data": {
      "text/plain": [
       "['TATA CAPITAL GROUP',\n",
       " 'OTHER',\n",
       " 'IBM',\n",
       " 'ACCENTURE SERVICES PVT LTD',\n",
       " 'COGNIZANT TECHNOLOGY SOLUTIONS INDIA PVT LTD',\n",
       " 'GENPACT',\n",
       " 'HCL TECHNOLOGIES LTD',\n",
       " 'INDIAN RAILWAY',\n",
       " 'TCS AND ASSOCIATES PVT LTD',\n",
       " 'CIPLA LTD',\n",
       " 'HCL AVITAS PVT LTD',\n",
       " 'HCL - HEWLETT-PACKARD LTD',\n",
       " 'DR REDDYS LABORATORIES LTD',\n",
       " 'BSNL',\n",
       " 'HSBC ELECTRONIC DATA PROCESSING INDIA PVT LTD',\n",
       " 'CAPGEMINI INDIA PVT LTD',\n",
       " 'IDEA CELLULAR LTD',\n",
       " 'KOTAK MAHINDRA BANK LTD',\n",
       " 'ERICSSON INDIA GLOBAL SERVICES PVT LTD',\n",
       " 'ADP INDIA PVT LTD',\n",
       " 'IKYA HUMAN CAPITAL SOLUTIONS LTD',\n",
       " 'L&T INFOTECH LTD',\n",
       " 'COMPUTER SCIENCES CORPORATION INDIA PVT LTD (CSC) ',\n",
       " 'HDFC BANK LTD',\n",
       " 'MINDTREE LTD',\n",
       " 'NOKIA NETWORKS INDIA PVT LTD',\n",
       " 'ABC AND SONS LTD',\n",
       " 'TECH MAHINDRA LTD',\n",
       " 'KPMG',\n",
       " 'AMAZON DEVELOPMENT CENTER INDIA PVT LTD']"
      ]
     },
     "execution_count": 66,
     "metadata": {},
     "output_type": "execute_result"
    }
   ],
   "source": [
    "emp_important"
   ]
  },
  {
   "cell_type": "code",
   "execution_count": 67,
   "metadata": {},
   "outputs": [],
   "source": [
    "data_new.loc[ ~data_new['Employer_Name'].isin(emp_important), 'Employer_Name'] = 'emp_no_important'"
   ]
  },
  {
   "cell_type": "code",
   "execution_count": 68,
   "metadata": {
    "scrolled": true
   },
   "outputs": [
    {
     "data": {
      "text/plain": [
       "emp_no_important                                      77517\n",
       "OTHER                                                  5266\n",
       "TATA CAPITAL GROUP                                     1158\n",
       "IBM                                                     484\n",
       "COGNIZANT TECHNOLOGY SOLUTIONS INDIA PVT LTD            404\n",
       "ACCENTURE SERVICES PVT LTD                              324\n",
       "HCL TECHNOLOGIES LTD                                    250\n",
       "GENPACT                                                 179\n",
       "HDFC BANK LTD                                           148\n",
       "IKYA HUMAN CAPITAL SOLUTIONS LTD                        142\n",
       "INDIAN RAILWAY                                          130\n",
       "TECH MAHINDRA LTD                                       113\n",
       "CAPGEMINI INDIA PVT LTD                                  96\n",
       "CIPLA LTD                                                90\n",
       "HSBC ELECTRONIC DATA PROCESSING INDIA PVT LTD            78\n",
       "KOTAK MAHINDRA BANK LTD                                  76\n",
       "TCS AND ASSOCIATES PVT LTD                               69\n",
       "ERICSSON INDIA GLOBAL SERVICES PVT LTD                   65\n",
       "DR REDDYS LABORATORIES LTD                               58\n",
       "BSNL                                                     56\n",
       "IDEA CELLULAR LTD                                        46\n",
       "AMAZON DEVELOPMENT CENTER INDIA PVT LTD                  45\n",
       "COMPUTER SCIENCES CORPORATION INDIA PVT LTD (CSC)        43\n",
       "ADP INDIA PVT LTD                                        43\n",
       "MINDTREE LTD                                             42\n",
       "NOKIA NETWORKS INDIA PVT LTD                             30\n",
       "HCL - HEWLETT-PACKARD LTD                                21\n",
       "KPMG                                                     19\n",
       "ABC AND SONS LTD                                         12\n",
       "HCL AVITAS PVT LTD                                       10\n",
       "L&T INFOTECH LTD                                          6\n",
       "Name: Employer_Name, dtype: int64"
      ]
     },
     "execution_count": 68,
     "metadata": {},
     "output_type": "execute_result"
    }
   ],
   "source": [
    "data_new.Employer_Name.value_counts()"
   ]
  },
  {
   "cell_type": "code",
   "execution_count": 69,
   "metadata": {},
   "outputs": [],
   "source": [
    "### Dodatkowo można by dodać mapowanie Employer_Name jako INT w założeniu że najpopularnijeszy ma największą wartość"
   ]
  },
  {
   "cell_type": "code",
   "execution_count": 70,
   "metadata": {
    "scrolled": true
   },
   "outputs": [
    {
     "data": {
      "text/plain": [
       "Text(0.5, 0, 'Employer')"
      ]
     },
     "execution_count": 70,
     "metadata": {},
     "output_type": "execute_result"
    },
    {
     "data": {
      "image/png": "[encoded data removed]",
      "text/plain": [
       "<Figure size 432x288 with 1 Axes>"
      ]
     },
     "metadata": {},
     "output_type": "display_data"
    }
   ],
   "source": [
    "Employer = data_new['Employer_Name'].value_counts()\n",
    "sns.set(style=\"darkgrid\")\n",
    "ax = sns.barplot(Employer.index, Employer.values)\n",
    "ax.set_xticks([])\n",
    "\n",
    "plt.title('Frequency Distribution of Employer')\n",
    "plt.ylabel('Number of Occurrences', fontsize=12)\n",
    "plt.xlabel('Employer', fontsize=12)\n"
   ]
  },
  {
   "cell_type": "code",
   "execution_count": 71,
   "metadata": {},
   "outputs": [
    {
     "data": {
      "text/plain": [
       "Index(['emp_no_important', 'OTHER', 'TATA CAPITAL GROUP', 'IBM',\n",
       "       'COGNIZANT TECHNOLOGY SOLUTIONS INDIA PVT LTD',\n",
       "       'ACCENTURE SERVICES PVT LTD', 'HCL TECHNOLOGIES LTD', 'GENPACT',\n",
       "       'HDFC BANK LTD', 'IKYA HUMAN CAPITAL SOLUTIONS LTD', 'INDIAN RAILWAY',\n",
       "       'TECH MAHINDRA LTD', 'CAPGEMINI INDIA PVT LTD', 'CIPLA LTD',\n",
       "       'HSBC ELECTRONIC DATA PROCESSING INDIA PVT LTD',\n",
       "       'KOTAK MAHINDRA BANK LTD', 'TCS AND ASSOCIATES PVT LTD',\n",
       "       'ERICSSON INDIA GLOBAL SERVICES PVT LTD', 'DR REDDYS LABORATORIES LTD',\n",
       "       'BSNL', 'IDEA CELLULAR LTD', 'AMAZON DEVELOPMENT CENTER INDIA PVT LTD',\n",
       "       'COMPUTER SCIENCES CORPORATION INDIA PVT LTD (CSC) ',\n",
       "       'ADP INDIA PVT LTD', 'MINDTREE LTD', 'NOKIA NETWORKS INDIA PVT LTD',\n",
       "       'HCL - HEWLETT-PACKARD LTD', 'KPMG', 'ABC AND SONS LTD',\n",
       "       'HCL AVITAS PVT LTD', 'L&T INFOTECH LTD'],\n",
       "      dtype='object')"
      ]
     },
     "execution_count": 71,
     "metadata": {},
     "output_type": "execute_result"
    }
   ],
   "source": [
    "Employer.index"
   ]
  },
  {
   "cell_type": "markdown",
   "metadata": {},
   "source": [
    "### SOURCE"
   ]
  },
  {
   "cell_type": "code",
   "execution_count": 72,
   "metadata": {},
   "outputs": [
    {
     "data": {
      "text/plain": [
       "array(['S122', 'S143', 'S134', 'S133', 'S159', 'S151', 'S137', 'S127',\n",
       "       'S144', 'S123', 'S156', 'S153', 'S124', 'S161', 'S139', 'S154',\n",
       "       'S157', 'S138', 'S162', 'S141', 'S158', 'S125', 'S129', 'S136',\n",
       "       'S130', 'S155', 'S160', 'S150', 'S135', 'S140'], dtype=object)"
      ]
     },
     "execution_count": 72,
     "metadata": {},
     "output_type": "execute_result"
    }
   ],
   "source": [
    "data_new['Source'].unique()"
   ]
  },
  {
   "cell_type": "code",
   "execution_count": 73,
   "metadata": {
    "scrolled": true
   },
   "outputs": [
    {
     "data": {
      "text/plain": [
       "S122    38567\n",
       "S133    29885\n",
       "S159     5599\n",
       "S143     4332\n",
       "S127     1931\n",
       "S137     1724\n",
       "S134     1301\n",
       "S161      769\n",
       "S151      720\n",
       "S157      650\n",
       "S153      494\n",
       "S156      308\n",
       "S144      299\n",
       "S158      208\n",
       "S123       73\n",
       "S141       57\n",
       "S162       36\n",
       "S124       24\n",
       "S160       11\n",
       "S150       10\n",
       "S155        4\n",
       "S129        3\n",
       "S139        3\n",
       "S136        3\n",
       "S138        3\n",
       "S135        2\n",
       "S125        1\n",
       "S140        1\n",
       "S130        1\n",
       "S154        1\n",
       "Name: Source, dtype: int64"
      ]
     },
     "execution_count": 73,
     "metadata": {},
     "output_type": "execute_result"
    }
   ],
   "source": [
    "data_new['Source'].value_counts()"
   ]
  },
  {
   "cell_type": "code",
   "execution_count": 74,
   "metadata": {},
   "outputs": [],
   "source": [
    "map_Source = dict()\n",
    "for _, item in enumerate(data_new.Source.value_counts()):\n",
    "    if item < SOURCE_TRESHOLD:\n",
    "        key = data_new.Source.value_counts().index[_]\n",
    "        map_Source [key] = 'OTHER'"
   ]
  },
  {
   "cell_type": "code",
   "execution_count": 75,
   "metadata": {},
   "outputs": [],
   "source": [
    "data_new.Source.replace(to_replace=map_Source, inplace=True)"
   ]
  },
  {
   "cell_type": "code",
   "execution_count": 76,
   "metadata": {
    "scrolled": true
   },
   "outputs": [
    {
     "data": {
      "text/plain": [
       "S122     38567\n",
       "S133     29885\n",
       "S159      5599\n",
       "S143      4332\n",
       "OTHER     3681\n",
       "S127      1931\n",
       "S137      1724\n",
       "S134      1301\n",
       "Name: Source, dtype: int64"
      ]
     },
     "execution_count": 76,
     "metadata": {},
     "output_type": "execute_result"
    }
   ],
   "source": [
    "data_new['Source'].value_counts()"
   ]
  },
  {
   "cell_type": "code",
   "execution_count": 77,
   "metadata": {
    "scrolled": false
   },
   "outputs": [
    {
     "data": {
      "text/plain": [
       "Text(0.5, 0, 'Source')"
      ]
     },
     "execution_count": 77,
     "metadata": {},
     "output_type": "execute_result"
    },
    {
     "data": {
      "image/png": "[encoded data removed]",
      "text/plain": [
       "<Figure size 432x288 with 1 Axes>"
      ]
     },
     "metadata": {},
     "output_type": "display_data"
    }
   ],
   "source": [
    "Source = data_new['Source'].value_counts()\n",
    "sns.set(style=\"darkgrid\")\n",
    "ax = sns.barplot(Source.index, Source.values)\n",
    "#ax.set_xticks([])\n",
    "plt.title('Frequency Distribution of Source')\n",
    "plt.ylabel('Number of Occurrences', fontsize=12)\n",
    "plt.xlabel('Source', fontsize=12)"
   ]
  },
  {
   "cell_type": "code",
   "execution_count": 78,
   "metadata": {
    "scrolled": true
   },
   "outputs": [
    {
     "name": "stdout",
     "output_type": "stream",
     "text": [
      "Liczba pustych wartości w każdej z kolumn :\n",
      "Gender                        0\n",
      "City                          0\n",
      "Monthly_Income                0\n",
      "DOB                           0\n",
      "Lead_Creation_Date            0\n",
      "Loan_Amount_Applied          71\n",
      "Loan_Tenure_Applied          71\n",
      "Existing_EMI                 71\n",
      "Employer_Name                 0\n",
      "Salary_Account                0\n",
      "Mobile_Verified               0\n",
      "Var5                          0\n",
      "Var1                          0\n",
      "Loan_Amount_Submitted     34613\n",
      "Loan_Tenure_Submitted     34613\n",
      "Interest_Rate             59294\n",
      "Processing_Fee            59600\n",
      "EMI_Loan_Submitted        59294\n",
      "Filled_Form                   0\n",
      "Device_Type                   0\n",
      "Var2                          0\n",
      "Source                        0\n",
      "Var4                          0\n",
      "Disbursed                     0\n",
      "DOB_new                       0\n",
      "Lead_Creation_Date_new        0\n",
      "Age_In_Days                   0\n",
      "dtype: int64\n"
     ]
    }
   ],
   "source": [
    "null_counts = data_new.isnull().sum()\n",
    "print(\"Liczba pustych wartości w każdej z kolumn :\\n{}\".format(null_counts))"
   ]
  },
  {
   "cell_type": "markdown",
   "metadata": {},
   "source": [
    "#### Kolumny gdzie liczba wartości pustych jest niewielka wypełniamy średnią"
   ]
  },
  {
   "cell_type": "code",
   "execution_count": 79,
   "metadata": {},
   "outputs": [],
   "source": [
    "data_new['Loan_Amount_Applied'] = data_new['Loan_Amount_Applied'].fillna(data_new['Loan_Amount_Applied'].mean())\n",
    "data_new['Loan_Tenure_Applied'] = data_new['Loan_Tenure_Applied'].fillna(data_new['Loan_Tenure_Applied'].mean())\n",
    "data_new['Existing_EMI'] = data_new['Existing_EMI'].fillna(data_new['Existing_EMI'].mean())"
   ]
  },
  {
   "cell_type": "markdown",
   "metadata": {},
   "source": [
    "### Usuniecie kolumn tymczasowych, z dużymi brakami danych i niskiej korelacji"
   ]
  },
  {
   "cell_type": "code",
   "execution_count": 80,
   "metadata": {
    "scrolled": true
   },
   "outputs": [
    {
     "data": {
      "text/plain": [
       "20.00    4707\n",
       "14.85    2016\n",
       "13.99    1699\n",
       "31.50    1696\n",
       "15.25    1553\n",
       "16.75    1518\n",
       "18.25    1312\n",
       "15.50    1292\n",
       "28.50     950\n",
       "18.40     800\n",
       "13.00     660\n",
       "24.00     649\n",
       "19.00     625\n",
       "15.75     557\n",
       "13.50     521\n",
       "18.15     506\n",
       "35.50     493\n",
       "18.00     474\n",
       "17.00     416\n",
       "16.25     370\n",
       "17.50     359\n",
       "18.50     315\n",
       "37.00     302\n",
       "14.49     292\n",
       "13.49     275\n",
       "14.25     262\n",
       "13.75     255\n",
       "14.50     229\n",
       "16.00     217\n",
       "32.50     212\n",
       "         ... \n",
       "25.50      65\n",
       "16.20      65\n",
       "15.35      57\n",
       "31.00      56\n",
       "29.00      46\n",
       "14.80      37\n",
       "16.15      31\n",
       "29.50      26\n",
       "27.50      26\n",
       "14.99      22\n",
       "21.50      21\n",
       "19.05      18\n",
       "26.50      16\n",
       "23.00      15\n",
       "30.50      13\n",
       "15.10      12\n",
       "24.50      11\n",
       "15.80       7\n",
       "14.90       7\n",
       "14.30       6\n",
       "28.00       6\n",
       "15.70       6\n",
       "15.99       5\n",
       "14.00       4\n",
       "15.49       3\n",
       "14.55       2\n",
       "20.50       2\n",
       "15.60       1\n",
       "14.29       1\n",
       "15.15       1\n",
       "Name: Interest_Rate, Length: 73, dtype: int64"
      ]
     },
     "execution_count": 80,
     "metadata": {},
     "output_type": "execute_result"
    }
   ],
   "source": [
    "# Na przykładzie koleracji 'Interest_Rate' i szukanej Disbursed\n",
    "data_new['Interest_Rate'].value_counts()"
   ]
  },
  {
   "cell_type": "code",
   "execution_count": 81,
   "metadata": {},
   "outputs": [
    {
     "data": {
      "text/html": [
       "<div>\n",
       "<style scoped>\n",
       "    .dataframe tbody tr th:only-of-type {\n",
       "        vertical-align: middle;\n",
       "    }\n",
       "\n",
       "    .dataframe tbody tr th {\n",
       "        vertical-align: top;\n",
       "    }\n",
       "\n",
       "    .dataframe thead th {\n",
       "        text-align: right;\n",
       "    }\n",
       "</style>\n",
       "<table border=\"1\" class=\"dataframe\">\n",
       "  <thead>\n",
       "    <tr style=\"text-align: right;\">\n",
       "      <th></th>\n",
       "      <th>Interest_Rate</th>\n",
       "      <th>Disbursed</th>\n",
       "    </tr>\n",
       "  </thead>\n",
       "  <tbody>\n",
       "    <tr>\n",
       "      <th>Interest_Rate</th>\n",
       "      <td>1.00000</td>\n",
       "      <td>-0.09241</td>\n",
       "    </tr>\n",
       "    <tr>\n",
       "      <th>Disbursed</th>\n",
       "      <td>-0.09241</td>\n",
       "      <td>1.00000</td>\n",
       "    </tr>\n",
       "  </tbody>\n",
       "</table>\n",
       "</div>"
      ],
      "text/plain": [
       "               Interest_Rate  Disbursed\n",
       "Interest_Rate        1.00000   -0.09241\n",
       "Disbursed           -0.09241    1.00000"
      ]
     },
     "execution_count": 81,
     "metadata": {},
     "output_type": "execute_result"
    }
   ],
   "source": [
    "data_new[['Interest_Rate','Disbursed']].corr()"
   ]
  },
  {
   "cell_type": "code",
   "execution_count": 82,
   "metadata": {},
   "outputs": [
    {
     "data": {
      "text/plain": [
       "<matplotlib.collections.PathCollection at 0x194e7b68fd0>"
      ]
     },
     "execution_count": 82,
     "metadata": {},
     "output_type": "execute_result"
    },
    {
     "data": {
      "image/png": "[encoded data removed]",
      "text/plain": [
       "<Figure size 432x288 with 1 Axes>"
      ]
     },
     "metadata": {},
     "output_type": "display_data"
    }
   ],
   "source": [
    "plt.scatter(data_new[['Interest_Rate']],data_new[['Disbursed']])"
   ]
  },
  {
   "cell_type": "code",
   "execution_count": 83,
   "metadata": {},
   "outputs": [],
   "source": [
    "data_new = data_new.drop(['DOB','Lead_Creation_Date','DOB_new','Lead_Creation_Date_new','Loan_Amount_Submitted', 'Loan_Tenure_Submitted', 'Interest_Rate',\n",
    "       'Processing_Fee', 'EMI_Loan_Submitted'], axis=1)"
   ]
  },
  {
   "cell_type": "code",
   "execution_count": 84,
   "metadata": {},
   "outputs": [
    {
     "data": {
      "text/plain": [
       "Index(['Gender', 'City', 'Monthly_Income', 'Loan_Amount_Applied',\n",
       "       'Loan_Tenure_Applied', 'Existing_EMI', 'Employer_Name',\n",
       "       'Salary_Account', 'Mobile_Verified', 'Var5', 'Var1', 'Filled_Form',\n",
       "       'Device_Type', 'Var2', 'Source', 'Var4', 'Disbursed', 'Age_In_Days'],\n",
       "      dtype='object')"
      ]
     },
     "execution_count": 84,
     "metadata": {},
     "output_type": "execute_result"
    }
   ],
   "source": [
    "data_new.columns"
   ]
  },
  {
   "cell_type": "code",
   "execution_count": 85,
   "metadata": {},
   "outputs": [
    {
     "data": {
      "text/plain": [
       "(87020, 18)"
      ]
     },
     "execution_count": 85,
     "metadata": {},
     "output_type": "execute_result"
    }
   ],
   "source": [
    "# Sprawdzenie ile kolumn zostało po usunięciu powyższych\n",
    "data_new.shape"
   ]
  },
  {
   "cell_type": "code",
   "execution_count": 86,
   "metadata": {},
   "outputs": [
    {
     "name": "stdout",
     "output_type": "stream",
     "text": [
      "Liczba pustych wartości w każdej z kolumn :\n",
      "Gender                 0\n",
      "City                   0\n",
      "Monthly_Income         0\n",
      "Loan_Amount_Applied    0\n",
      "Loan_Tenure_Applied    0\n",
      "Existing_EMI           0\n",
      "Employer_Name          0\n",
      "Salary_Account         0\n",
      "Mobile_Verified        0\n",
      "Var5                   0\n",
      "Var1                   0\n",
      "Filled_Form            0\n",
      "Device_Type            0\n",
      "Var2                   0\n",
      "Source                 0\n",
      "Var4                   0\n",
      "Disbursed              0\n",
      "Age_In_Days            0\n",
      "dtype: int64\n"
     ]
    }
   ],
   "source": [
    "null_counts = data_new.isnull().sum()\n",
    "print(\"Liczba pustych wartości w każdej z kolumn :\\n{}\".format(null_counts))"
   ]
  },
  {
   "cell_type": "markdown",
   "metadata": {},
   "source": [
    "###  Przygotowanie nowegych DataFrame do modelowania\n",
    "Kolumny z kategoriami enkoduje wartościami numerycznymi"
   ]
  },
  {
   "cell_type": "code",
   "execution_count": 88,
   "metadata": {},
   "outputs": [],
   "source": [
    "data_target_dummies = pd.get_dummies(data_new, drop_first=True)"
   ]
  },
  {
   "cell_type": "code",
   "execution_count": 89,
   "metadata": {
    "scrolled": true
   },
   "outputs": [
    {
     "data": {
      "text/plain": [
       "Index(['Gender', 'Monthly_Income', 'Loan_Amount_Applied',\n",
       "       'Loan_Tenure_Applied', 'Existing_EMI', 'Mobile_Verified', 'Var5',\n",
       "       'Filled_Form', 'Device_Type', 'Var4', 'Disbursed', 'Age_In_Days',\n",
       "       'City_Bengaluru', 'City_Chennai', 'City_Coimbatore', 'City_Delhi',\n",
       "       'City_Gurgaon', 'City_Hyderabad', 'City_Jaipur', 'City_Kolkata',\n",
       "       'City_Mumbai', 'City_OTHER', 'City_Pune', 'City_Thane',\n",
       "       'Employer_Name_ACCENTURE SERVICES PVT LTD',\n",
       "       'Employer_Name_ADP INDIA PVT LTD',\n",
       "       'Employer_Name_AMAZON DEVELOPMENT CENTER INDIA PVT LTD',\n",
       "       'Employer_Name_BSNL', 'Employer_Name_CAPGEMINI INDIA PVT LTD',\n",
       "       'Employer_Name_CIPLA LTD',\n",
       "       'Employer_Name_COGNIZANT TECHNOLOGY SOLUTIONS INDIA PVT LTD',\n",
       "       'Employer_Name_COMPUTER SCIENCES CORPORATION INDIA PVT LTD (CSC) ',\n",
       "       'Employer_Name_DR REDDYS LABORATORIES LTD',\n",
       "       'Employer_Name_ERICSSON INDIA GLOBAL SERVICES PVT LTD',\n",
       "       'Employer_Name_GENPACT', 'Employer_Name_HCL - HEWLETT-PACKARD LTD',\n",
       "       'Employer_Name_HCL AVITAS PVT LTD',\n",
       "       'Employer_Name_HCL TECHNOLOGIES LTD', 'Employer_Name_HDFC BANK LTD',\n",
       "       'Employer_Name_HSBC ELECTRONIC DATA PROCESSING INDIA PVT LTD',\n",
       "       'Employer_Name_IBM', 'Employer_Name_IDEA CELLULAR LTD',\n",
       "       'Employer_Name_IKYA HUMAN CAPITAL SOLUTIONS LTD',\n",
       "       'Employer_Name_INDIAN RAILWAY', 'Employer_Name_KOTAK MAHINDRA BANK LTD',\n",
       "       'Employer_Name_KPMG', 'Employer_Name_L&T INFOTECH LTD',\n",
       "       'Employer_Name_MINDTREE LTD',\n",
       "       'Employer_Name_NOKIA NETWORKS INDIA PVT LTD', 'Employer_Name_OTHER',\n",
       "       'Employer_Name_TATA CAPITAL GROUP',\n",
       "       'Employer_Name_TCS AND ASSOCIATES PVT LTD',\n",
       "       'Employer_Name_TECH MAHINDRA LTD', 'Employer_Name_emp_no_important',\n",
       "       'Salary_Account_Bank of Baroda', 'Salary_Account_Bank of India',\n",
       "       'Salary_Account_Canara Bank', 'Salary_Account_Citibank',\n",
       "       'Salary_Account_HDFC Bank', 'Salary_Account_ICICI Bank',\n",
       "       'Salary_Account_IDBI Bank', 'Salary_Account_ING Vysya',\n",
       "       'Salary_Account_Kotak Bank', 'Salary_Account_None',\n",
       "       'Salary_Account_OTHER', 'Salary_Account_Punjab National Bank',\n",
       "       'Salary_Account_Standard Chartered Bank',\n",
       "       'Salary_Account_State Bank of India',\n",
       "       'Salary_Account_Union Bank of India', 'Salary_Account_Yes Bank',\n",
       "       'Var1_HAXB', 'Var1_HAXC', 'Var1_HBXA', 'Var1_HBXB', 'Var1_HBXC',\n",
       "       'Var1_HBXD', 'Var1_HBXH', 'Var1_HBXX', 'Var1_OTHER', 'Var2_C', 'Var2_E',\n",
       "       'Var2_G', 'Var2_OTHER', 'Source_S122', 'Source_S127', 'Source_S133',\n",
       "       'Source_S134', 'Source_S137', 'Source_S143', 'Source_S159'],\n",
       "      dtype='object')"
      ]
     },
     "execution_count": 89,
     "metadata": {},
     "output_type": "execute_result"
    }
   ],
   "source": [
    "data_target_dummies.columns"
   ]
  },
  {
   "cell_type": "code",
   "execution_count": 90,
   "metadata": {
    "scrolled": true
   },
   "outputs": [
    {
     "data": {
      "text/plain": [
       "(87020, 90)"
      ]
     },
     "execution_count": 90,
     "metadata": {},
     "output_type": "execute_result"
    }
   ],
   "source": [
    "data_target_dummies.shape"
   ]
  },
  {
   "cell_type": "markdown",
   "metadata": {},
   "source": [
    "### LabelEncoder"
   ]
  },
  {
   "cell_type": "code",
   "execution_count": 91,
   "metadata": {},
   "outputs": [],
   "source": [
    "## Zastapienie kolumn typu obiekt na dane numeryczne\n",
    "import sklearn.preprocessing as preprocessing\n",
    "data_target_le = data_new.copy()\n",
    "encoders={}\n",
    "for column in data_target_le.columns:\n",
    "    if data_target_le.dtypes[column]==np.object:\n",
    "        encoders[column]=preprocessing.LabelEncoder()\n",
    "        data_target_le[column]=encoders[column].fit_transform(data_target_le[column])"
   ]
  },
  {
   "cell_type": "code",
   "execution_count": 92,
   "metadata": {},
   "outputs": [
    {
     "data": {
      "text/plain": [
       "Index(['Gender', 'City', 'Monthly_Income', 'Loan_Amount_Applied',\n",
       "       'Loan_Tenure_Applied', 'Existing_EMI', 'Employer_Name',\n",
       "       'Salary_Account', 'Mobile_Verified', 'Var5', 'Var1', 'Filled_Form',\n",
       "       'Device_Type', 'Var2', 'Source', 'Var4', 'Disbursed', 'Age_In_Days'],\n",
       "      dtype='object')"
      ]
     },
     "execution_count": 92,
     "metadata": {},
     "output_type": "execute_result"
    }
   ],
   "source": [
    "data_target_le.columns"
   ]
  },
  {
   "cell_type": "code",
   "execution_count": 93,
   "metadata": {},
   "outputs": [
    {
     "data": {
      "text/plain": [
       "(87020, 18)"
      ]
     },
     "execution_count": 93,
     "metadata": {},
     "output_type": "execute_result"
    }
   ],
   "source": [
    "data_target_le.shape"
   ]
  },
  {
   "cell_type": "code",
   "execution_count": 94,
   "metadata": {},
   "outputs": [
    {
     "data": {
      "text/html": [
       "<div>\n",
       "<style scoped>\n",
       "    .dataframe tbody tr th:only-of-type {\n",
       "        vertical-align: middle;\n",
       "    }\n",
       "\n",
       "    .dataframe tbody tr th {\n",
       "        vertical-align: top;\n",
       "    }\n",
       "\n",
       "    .dataframe thead th {\n",
       "        text-align: right;\n",
       "    }\n",
       "</style>\n",
       "<table border=\"1\" class=\"dataframe\">\n",
       "  <thead>\n",
       "    <tr style=\"text-align: right;\">\n",
       "      <th></th>\n",
       "      <th>Gender</th>\n",
       "      <th>City</th>\n",
       "      <th>Monthly_Income</th>\n",
       "      <th>Loan_Amount_Applied</th>\n",
       "      <th>Loan_Tenure_Applied</th>\n",
       "      <th>Existing_EMI</th>\n",
       "      <th>Employer_Name</th>\n",
       "      <th>Salary_Account</th>\n",
       "      <th>Mobile_Verified</th>\n",
       "      <th>Var5</th>\n",
       "      <th>Var1</th>\n",
       "      <th>Filled_Form</th>\n",
       "      <th>Device_Type</th>\n",
       "      <th>Var2</th>\n",
       "      <th>Source</th>\n",
       "      <th>Var4</th>\n",
       "      <th>Disbursed</th>\n",
       "      <th>Age_In_Days</th>\n",
       "    </tr>\n",
       "  </thead>\n",
       "  <tbody>\n",
       "    <tr>\n",
       "      <th>0</th>\n",
       "      <td>0</td>\n",
       "      <td>4</td>\n",
       "      <td>20000</td>\n",
       "      <td>300000.0</td>\n",
       "      <td>5.0</td>\n",
       "      <td>0.0</td>\n",
       "      <td>30</td>\n",
       "      <td>5</td>\n",
       "      <td>0</td>\n",
       "      <td>0</td>\n",
       "      <td>8</td>\n",
       "      <td>0</td>\n",
       "      <td>1</td>\n",
       "      <td>3</td>\n",
       "      <td>1</td>\n",
       "      <td>1</td>\n",
       "      <td>0</td>\n",
       "      <td>13506.0</td>\n",
       "    </tr>\n",
       "    <tr>\n",
       "      <th>1</th>\n",
       "      <td>1</td>\n",
       "      <td>9</td>\n",
       "      <td>35000</td>\n",
       "      <td>200000.0</td>\n",
       "      <td>2.0</td>\n",
       "      <td>0.0</td>\n",
       "      <td>27</td>\n",
       "      <td>6</td>\n",
       "      <td>1</td>\n",
       "      <td>13</td>\n",
       "      <td>3</td>\n",
       "      <td>0</td>\n",
       "      <td>1</td>\n",
       "      <td>3</td>\n",
       "      <td>1</td>\n",
       "      <td>3</td>\n",
       "      <td>0</td>\n",
       "      <td>10801.0</td>\n",
       "    </tr>\n",
       "    <tr>\n",
       "      <th>2</th>\n",
       "      <td>1</td>\n",
       "      <td>10</td>\n",
       "      <td>22500</td>\n",
       "      <td>600000.0</td>\n",
       "      <td>4.0</td>\n",
       "      <td>0.0</td>\n",
       "      <td>30</td>\n",
       "      <td>14</td>\n",
       "      <td>1</td>\n",
       "      <td>0</td>\n",
       "      <td>8</td>\n",
       "      <td>0</td>\n",
       "      <td>1</td>\n",
       "      <td>0</td>\n",
       "      <td>6</td>\n",
       "      <td>1</td>\n",
       "      <td>0</td>\n",
       "      <td>12274.0</td>\n",
       "    </tr>\n",
       "    <tr>\n",
       "      <th>3</th>\n",
       "      <td>1</td>\n",
       "      <td>10</td>\n",
       "      <td>35000</td>\n",
       "      <td>1000000.0</td>\n",
       "      <td>5.0</td>\n",
       "      <td>0.0</td>\n",
       "      <td>30</td>\n",
       "      <td>14</td>\n",
       "      <td>1</td>\n",
       "      <td>10</td>\n",
       "      <td>8</td>\n",
       "      <td>0</td>\n",
       "      <td>1</td>\n",
       "      <td>0</td>\n",
       "      <td>6</td>\n",
       "      <td>3</td>\n",
       "      <td>0</td>\n",
       "      <td>10022.0</td>\n",
       "    </tr>\n",
       "    <tr>\n",
       "      <th>4</th>\n",
       "      <td>1</td>\n",
       "      <td>1</td>\n",
       "      <td>100000</td>\n",
       "      <td>500000.0</td>\n",
       "      <td>2.0</td>\n",
       "      <td>25000.0</td>\n",
       "      <td>30</td>\n",
       "      <td>5</td>\n",
       "      <td>1</td>\n",
       "      <td>17</td>\n",
       "      <td>8</td>\n",
       "      <td>0</td>\n",
       "      <td>1</td>\n",
       "      <td>0</td>\n",
       "      <td>4</td>\n",
       "      <td>3</td>\n",
       "      <td>0</td>\n",
       "      <td>11415.0</td>\n",
       "    </tr>\n",
       "  </tbody>\n",
       "</table>\n",
       "</div>"
      ],
      "text/plain": [
       "   Gender  City  Monthly_Income  Loan_Amount_Applied  Loan_Tenure_Applied  \\\n",
       "0       0     4           20000             300000.0                  5.0   \n",
       "1       1     9           35000             200000.0                  2.0   \n",
       "2       1    10           22500             600000.0                  4.0   \n",
       "3       1    10           35000            1000000.0                  5.0   \n",
       "4       1     1          100000             500000.0                  2.0   \n",
       "\n",
       "   Existing_EMI  Employer_Name  Salary_Account  Mobile_Verified  Var5  Var1  \\\n",
       "0           0.0             30               5                0     0     8   \n",
       "1           0.0             27               6                1    13     3   \n",
       "2           0.0             30              14                1     0     8   \n",
       "3           0.0             30              14                1    10     8   \n",
       "4       25000.0             30               5                1    17     8   \n",
       "\n",
       "   Filled_Form  Device_Type  Var2  Source  Var4  Disbursed  Age_In_Days  \n",
       "0            0            1     3       1     1          0      13506.0  \n",
       "1            0            1     3       1     3          0      10801.0  \n",
       "2            0            1     0       6     1          0      12274.0  \n",
       "3            0            1     0       6     3          0      10022.0  \n",
       "4            0            1     0       4     3          0      11415.0  "
      ]
     },
     "execution_count": 94,
     "metadata": {},
     "output_type": "execute_result"
    }
   ],
   "source": [
    "data_target_le.head()"
   ]
  },
  {
   "cell_type": "markdown",
   "metadata": {},
   "source": [
    "### Modelowanie\n",
    "\n",
    "Podział na X, y oraz zbiór treningowy i testowy\n",
    "\n",
    "Dane zakodowane : \n",
    "get_dummiec potem\n",
    "LabelEncoderem"
   ]
  },
  {
   "cell_type": "code",
   "execution_count": 95,
   "metadata": {},
   "outputs": [],
   "source": [
    "y = data_target_dummies['Disbursed']\n",
    "X = data_target_dummies.drop(['Disbursed'], axis=1)\n",
    "\n",
    "X_train, X_test, y_train, y_test = train_test_split(X, y, test_size=0.3, random_state=42)"
   ]
  },
  {
   "cell_type": "markdown",
   "metadata": {},
   "source": [
    "Istotnym elementem w procesie modelowania prócz przygotowania danych, doboru modelu jest wybór miary oceny jakości modelu. W przypadu niezbalansowanych danych, miara accuracy nie przedstawia rzeczywistej jakości modelu. W rozważaniu przedstawię dwie metody preprocessingu oraz 'undersampling' oraz 'oversamplig' dla prób niezbalansowanych.\n"
   ]
  },
  {
   "cell_type": "markdown",
   "metadata": {},
   "source": [
    "#### Pierwszy model bazowy - Regresja logistyczna"
   ]
  },
  {
   "cell_type": "code",
   "execution_count": 96,
   "metadata": {
    "scrolled": false
   },
   "outputs": [
    {
     "name": "stderr",
     "output_type": "stream",
     "text": [
      "C:\\ProgramData\\Anaconda3\\lib\\site-packages\\sklearn\\linear_model\\logistic.py:433: FutureWarning: Default solver will be changed to 'lbfgs' in 0.22. Specify a solver to silence this warning.\n",
      "  FutureWarning)\n"
     ]
    },
    {
     "name": "stdout",
     "output_type": "stream",
     "text": [
      "Accuracy test: 0.984869378686892\n",
      "AUC Score test: 0.49998055382700685\n",
      "Suma predykcji: 1\n",
      "F1 score train =  0.0\n",
      "F1 score test 0.0\n"
     ]
    }
   ],
   "source": [
    "pipe = Pipeline([(\"model\",LogisticRegression())])\n",
    "pipe.fit(X_train, y_train)\n",
    "#accuracy_score(pipe.predict(X_test), y_test)\n",
    "print('Accuracy test:', accuracy_score(y_test, pipe.predict(X_test)))\n",
    "print('AUC Score test:', roc_auc_score(y_test, pipe.predict(X_test)))\n",
    "print('Suma predykcji:', pipe.predict(X_test).sum())\n",
    "print('F1 score train = ', f1_score(y_train,pipe.predict(X_train)))\n",
    "print('F1 score test', f1_score(y_test,pipe.predict(X_test)))"
   ]
  },
  {
   "cell_type": "markdown",
   "metadata": {},
   "source": [
    "#### Miara accuracy_score jest bardzo wysoka, gdyż model przewiduje same 0 \n",
    "#### Typowo niezbalansowane klasy !"
   ]
  },
  {
   "cell_type": "code",
   "execution_count": 97,
   "metadata": {},
   "outputs": [
    {
     "data": {
      "text/plain": [
       "array([0, 0, 0, ..., 0, 0, 0], dtype=int64)"
      ]
     },
     "execution_count": 97,
     "metadata": {},
     "output_type": "execute_result"
    }
   ],
   "source": [
    "y_pred = pipe.predict(X_test)\n",
    "y_pred"
   ]
  },
  {
   "cell_type": "markdown",
   "metadata": {},
   "source": [
    "#### Drugi model bazowy - Regresja logistyczna z użyciem Skalera."
   ]
  },
  {
   "cell_type": "code",
   "execution_count": 98,
   "metadata": {
    "scrolled": true
   },
   "outputs": [
    {
     "name": "stderr",
     "output_type": "stream",
     "text": [
      "C:\\ProgramData\\Anaconda3\\lib\\site-packages\\sklearn\\preprocessing\\data.py:323: DataConversionWarning: Data with input dtype uint8, int32, int64, float64 were all converted to float64 by MinMaxScaler.\n",
      "  return self.partial_fit(X, y)\n",
      "C:\\ProgramData\\Anaconda3\\lib\\site-packages\\sklearn\\linear_model\\logistic.py:433: FutureWarning: Default solver will be changed to 'lbfgs' in 0.22. Specify a solver to silence this warning.\n",
      "  FutureWarning)\n"
     ]
    },
    {
     "name": "stdout",
     "output_type": "stream",
     "text": [
      "Accuracy test: 0.984869378686892\n",
      "AUC Score test: 0.49998055382700685\n",
      "Suma predykcji: 1\n",
      "F1 score test 0.0\n"
     ]
    }
   ],
   "source": [
    "pipe = Pipeline([(\"standarization\",MinMaxScaler()),(\"model\",LogisticRegression())])\n",
    "pipe.fit(X_train, y_train)\n",
    "print('Accuracy test:', accuracy_score(y_test,pipe.predict(X_test)))\n",
    "print('AUC Score test:', roc_auc_score(y_test,pipe.predict(X_test)))\n",
    "print('Suma predykcji:', pipe.predict(X_test).sum())\n",
    "print('F1 score test', f1_score(y_test,pipe.predict(X_test)))"
   ]
  },
  {
   "cell_type": "markdown",
   "metadata": {},
   "source": [
    "### Rozwiązanie problemu niezbalansowanej próby"
   ]
  },
  {
   "cell_type": "code",
   "execution_count": 99,
   "metadata": {},
   "outputs": [
    {
     "name": "stdout",
     "output_type": "stream",
     "text": [
      "count_class_0:  85747 , count_class_1:  1273\n"
     ]
    },
    {
     "data": {
      "image/png": "[encoded data removed]",
      "text/plain": [
       "<Figure size 432x288 with 1 Axes>"
      ]
     },
     "metadata": {},
     "output_type": "display_data"
    }
   ],
   "source": [
    "data_target = data_target_dummies.copy()\n",
    "\n",
    "count_class_0, count_class_1 = data_target['Disbursed'].value_counts()\n",
    "data_target_class_0=data_target[data_target[\"Disbursed\"]==0]\n",
    "data_target_class_1=data_target[data_target[\"Disbursed\"]==1]\n",
    "\n",
    "data_target['Disbursed'].value_counts().plot(kind='bar', title='Count (Disbursed)')\n",
    "print('count_class_0: ', count_class_0, ', count_class_1: ', count_class_1)"
   ]
  },
  {
   "cell_type": "code",
   "execution_count": 100,
   "metadata": {
    "scrolled": true
   },
   "outputs": [
    {
     "name": "stdout",
     "output_type": "stream",
     "text": [
      "count_class_0:  60035 , count_class_1:  879\n"
     ]
    },
    {
     "data": {
      "text/plain": [
       "<matplotlib.axes._subplots.AxesSubplot at 0x194a4629f98>"
      ]
     },
     "execution_count": 100,
     "metadata": {},
     "output_type": "execute_result"
    },
    {
     "data": {
      "image/png": "[encoded data removed]",
      "text/plain": [
       "<Figure size 432x288 with 1 Axes>"
      ]
     },
     "metadata": {},
     "output_type": "display_data"
    }
   ],
   "source": [
    "X_concat = pd.concat([X_train, y_train], axis=1)\n",
    "\n",
    "count_class_0, count_class_1 = X_concat['Disbursed'].value_counts()\n",
    "print('count_class_0: ', count_class_0, ', count_class_1: ', count_class_1)\n",
    "data_target_class_0=X_concat[X_concat['Disbursed']==0]\n",
    "data_target_class_1=X_concat[X_concat['Disbursed']==1]\n",
    "X_concat['Disbursed'].value_counts().plot(kind='bar', title='Count (Disbursed)')"
   ]
  },
  {
   "cell_type": "markdown",
   "metadata": {},
   "source": [
    "### UNDERsamplig"
   ]
  },
  {
   "cell_type": "code",
   "execution_count": 101,
   "metadata": {},
   "outputs": [
    {
     "name": "stdout",
     "output_type": "stream",
     "text": [
      "1    879\n",
      "0    879\n",
      "Name: Disbursed, dtype: int64\n"
     ]
    },
    {
     "data": {
      "image/png": "[encoded data removed]",
      "text/plain": [
       "<Figure size 432x288 with 1 Axes>"
      ]
     },
     "metadata": {},
     "output_type": "display_data"
    }
   ],
   "source": [
    "data_target_class_0_under=data_target_class_0.sample(count_class_1)\n",
    "data_target_under = pd.concat([data_target_class_0_under,data_target_class_1],axis=0)\n",
    "print(data_target_under['Disbursed'].value_counts())\n",
    "data_target_under['Disbursed'].value_counts().plot(kind='bar', title='Count (Disbursed)')\n",
    "plt.show()"
   ]
  },
  {
   "cell_type": "code",
   "execution_count": 102,
   "metadata": {},
   "outputs": [],
   "source": [
    "X_train_under = data_target_under.drop([\"Disbursed\"], axis = 1)\n",
    "y_train_under = data_target_under.Disbursed"
   ]
  },
  {
   "cell_type": "code",
   "execution_count": 108,
   "metadata": {
    "scrolled": true
   },
   "outputs": [],
   "source": [
    "#wybor_modelu(X_train_under, y_train_under, X_test, y_test, names, models, parameters, \"roc_auc\")\n",
    "# Uruchomione poniżej"
   ]
  },
  {
   "cell_type": "markdown",
   "metadata": {},
   "source": [
    "### OVERsamplig"
   ]
  },
  {
   "cell_type": "code",
   "execution_count": 107,
   "metadata": {
    "scrolled": true
   },
   "outputs": [
    {
     "name": "stdout",
     "output_type": "stream",
     "text": [
      "1    60035\n",
      "0    60035\n",
      "Name: Disbursed, dtype: int64\n"
     ]
    },
    {
     "data": {
      "text/plain": [
       "<matplotlib.axes._subplots.AxesSubplot at 0x194e8161828>"
      ]
     },
     "execution_count": 107,
     "metadata": {},
     "output_type": "execute_result"
    },
    {
     "data": {
      "image/png": "[encoded data removed]",
      "text/plain": [
       "<Figure size 432x288 with 1 Axes>"
      ]
     },
     "metadata": {},
     "output_type": "display_data"
    }
   ],
   "source": [
    "data_target_class_1_over=data_target_class_1.sample(count_class_0,replace=True) # ze zwracaniem, ponieważ nie mamy tyle danych\n",
    "data_target_over = pd.concat([data_target_class_0,data_target_class_1_over],axis=0)\n",
    "print(data_target_over['Disbursed'].value_counts())\n",
    "data_target_over['Disbursed'].value_counts().plot(kind='bar', title='Count (Disbursed)')"
   ]
  },
  {
   "cell_type": "code",
   "execution_count": 109,
   "metadata": {},
   "outputs": [],
   "source": [
    "X_train_over = data_target_over.drop([\"Disbursed\"], axis = 1)\n",
    "y_train_over = data_target_over.Disbursed"
   ]
  },
  {
   "cell_type": "code",
   "execution_count": 111,
   "metadata": {},
   "outputs": [],
   "source": [
    "#wybor_modelu(X_train_over, y_train_over, X_test, y_test, names, models, parameters, \"roc_auc\")\n",
    "# Uruchomione poniżej"
   ]
  },
  {
   "cell_type": "markdown",
   "metadata": {},
   "source": [
    "## Zdefiniowanie modeli, ich możliwe parametry do fitowania"
   ]
  },
  {
   "cell_type": "markdown",
   "metadata": {},
   "source": [
    "### Definicja parametrów dla modelu"
   ]
  },
  {
   "cell_type": "code",
   "execution_count": 104,
   "metadata": {
    "scrolled": true
   },
   "outputs": [],
   "source": [
    "names = [\"Regresja logistyczna\", \n",
    "         \"Drzewo decyzyjne\", \n",
    "         \"Naiwny Bayes\", \n",
    "         \"RandomForest\"\n",
    "        ]\n",
    "\n",
    "models = [\n",
    "    [(\"scaler\", MaxAbsScaler()), (\"model\", LogisticRegression())],\n",
    "    [(\"model\", DecisionTreeClassifier())],\n",
    "    [(\"model\", MultinomialNB())],\n",
    "    [(\"model\", RandomForestClassifier(n_jobs=-1))]\n",
    "]\n",
    "\n",
    "models_run = [\n",
    "    True, #LR\n",
    "    True, #DTC\n",
    "    True, #MNB\n",
    "    True  #RF\n",
    "]\n",
    "\n",
    "\n",
    "parameters = [\n",
    "    {\"model__C\": [0.01, 1, 10, 100], \"model__penalty\": [\"l1\",\"l2\"]}, \n",
    "    {\"model__criterion\":[\"gini\",\"entropy\"]},\n",
    "    {},\n",
    "    {\"model__n_estimators\": [10, 100, 100], \"model__max_depth\": [10, 100, 1000], \"model__min_samples_split\": [2,4,8]}\n",
    "]\n",
    "\n",
    "if len(names) != len(models) or len(models) != len(parameters) or len(models) != len(models_run):\n",
    "    raise ValueError(\"Listy wejściowe nie są równej długości!\", len(names), len(models), len(parameters) , len(models_run))\n"
   ]
  },
  {
   "cell_type": "code",
   "execution_count": 105,
   "metadata": {},
   "outputs": [],
   "source": [
    "def wybor_modelu(X_train, y_train, X_test, y_test, names, models, parameters, scoring_p):\n",
    "    best_names = []\n",
    "    best_models = []\n",
    "    best_params = []\n",
    "    acc_test_tbl = []\n",
    "    auc_test_tbl = []\n",
    "    f1_test_tbl = []\n",
    "    \n",
    "    if len(names) != len(models) or len(models) != len(parameters):\n",
    "        raise ValueError(\"Listy wejściowe nie są równej długości!\", len(names), len(models), len(parameters))\n",
    "    \n",
    "    for name, model, parameter in zip(names, models, parameters):\n",
    "        print(\"Fituję : \", name)\n",
    "        pipe = Pipeline(model)\n",
    "        gs = GridSearchCV(pipe, parameter, cv=10, scoring=scoring_p, n_jobs=-1)\n",
    "        gs.fit(X_train, y_train)\n",
    "    \n",
    "        for mean, std, params in zip(gs.cv_results_[\"mean_test_score\"], gs.cv_results_[\"std_test_score\"], gs.cv_results_[\"params\"]):\n",
    "            print(\"mean: \", mean, \", std: \", std, params)\n",
    "    \n",
    "        best_names.append(name)\n",
    "        best_models.append(gs.best_estimator_)\n",
    "        best_params.append(gs.best_params_)        \n",
    "    \n",
    "    print()\n",
    "    print(\"Wyniki na testowym:\")\n",
    "    for name, best_model, best_param in zip(best_names, best_models, best_params):\n",
    "        acc_test_score = accuracy_score(y_test, best_model.predict(X_test))\n",
    "        auc_test_score = roc_auc_score(y_test, best_model.predict(X_test))\n",
    "        f1_test_score = f1_score(y_test, best_model.predict(X_test))\n",
    "        print(name, \" (\", best_param, \"):\", acc_test_score, \" :\", auc_test_score, \" :\", f1_test_score)\n",
    "        acc_test_tbl.append(acc_test_score)\n",
    "        auc_test_tbl.append(auc_test_score)\n",
    "        f1_test_tbl.append(f1_test_score)\n",
    "    \n",
    "    compare_dict = {'Method': best_names,\n",
    "         'Accuracy Score Test': acc_test_tbl,\n",
    "         'AUC Score test': auc_test_tbl,\n",
    "         'F1 Score test': f1_test_tbl           \n",
    "    }\n",
    "    compare_df = pd.DataFrame(compare_dict)\n",
    "    display(compare_df)"
   ]
  },
  {
   "cell_type": "markdown",
   "metadata": {},
   "source": [
    "### Uruchomienie modelowania na danych get_dummies _undersampling"
   ]
  },
  {
   "cell_type": "code",
   "execution_count": 112,
   "metadata": {},
   "outputs": [
    {
     "name": "stdout",
     "output_type": "stream",
     "text": [
      "Fituję :  Regresja logistyczna\n"
     ]
    },
    {
     "name": "stderr",
     "output_type": "stream",
     "text": [
      "C:\\ProgramData\\Anaconda3\\lib\\site-packages\\sklearn\\linear_model\\logistic.py:433: FutureWarning: Default solver will be changed to 'lbfgs' in 0.22. Specify a solver to silence this warning.\n",
      "  FutureWarning)\n"
     ]
    },
    {
     "name": "stdout",
     "output_type": "stream",
     "text": [
      "mean:  0.7513957689166587 , std:  0.03290097924035942 {'model__C': 0.01, 'model__penalty': 'l1'}\n",
      "mean:  0.7706252236380516 , std:  0.025069433249991925 {'model__C': 0.01, 'model__penalty': 'l2'}\n",
      "mean:  0.822834529834059 , std:  0.026792391151122297 {'model__C': 1, 'model__penalty': 'l1'}\n",
      "mean:  0.814091693681549 , std:  0.026946551272102277 {'model__C': 1, 'model__penalty': 'l2'}\n",
      "mean:  0.818966706015076 , std:  0.028507349776553597 {'model__C': 10, 'model__penalty': 'l1'}\n",
      "mean:  0.8171906781121799 , std:  0.027550941625340063 {'model__C': 10, 'model__penalty': 'l2'}\n",
      "mean:  0.8161979034787085 , std:  0.028305929213816642 {'model__C': 100, 'model__penalty': 'l1'}\n",
      "mean:  0.8166505290637338 , std:  0.028427425102998113 {'model__C': 100, 'model__penalty': 'l2'}\n",
      "Fituję :  Drzewo decyzyjne\n",
      "mean:  0.6825938566552902 , std:  0.02014439940331864 {'model__criterion': 'gini'}\n",
      "mean:  0.6814562002275313 , std:  0.032598979182754624 {'model__criterion': 'entropy'}\n",
      "Fituję :  Naiwny Bayes\n",
      "mean:  0.628569441621107 , std:  0.03929293816025378 {}\n",
      "Fituję :  RandomForest\n",
      "mean:  0.819193613194437 , std:  0.02148629932067951 {'model__max_depth': 10, 'model__min_samples_split': 2, 'model__n_estimators': 10}\n",
      "mean:  0.8360027246693128 , std:  0.020177196515803804 {'model__max_depth': 10, 'model__min_samples_split': 2, 'model__n_estimators': 100}\n",
      "mean:  0.8325722209740097 , std:  0.022523618840999075 {'model__max_depth': 10, 'model__min_samples_split': 2, 'model__n_estimators': 100}\n",
      "mean:  0.8146116335771507 , std:  0.024079714533786843 {'model__max_depth': 10, 'model__min_samples_split': 4, 'model__n_estimators': 10}\n",
      "mean:  0.8354881342553463 , std:  0.02111704291735007 {'model__max_depth': 10, 'model__min_samples_split': 4, 'model__n_estimators': 100}\n",
      "mean:  0.832979821755272 , std:  0.01991553450168115 {'model__max_depth': 10, 'model__min_samples_split': 4, 'model__n_estimators': 100}\n",
      "mean:  0.8199401630759758 , std:  0.02320979974574772 {'model__max_depth': 10, 'model__min_samples_split': 8, 'model__n_estimators': 10}\n",
      "mean:  0.8329943842330567 , std:  0.023044784189969227 {'model__max_depth': 10, 'model__min_samples_split': 8, 'model__n_estimators': 100}\n",
      "mean:  0.8329725405163797 , std:  0.02248081733212296 {'model__max_depth': 10, 'model__min_samples_split': 8, 'model__n_estimators': 100}\n",
      "mean:  0.8090296723858571 , std:  0.020101709109439633 {'model__max_depth': 100, 'model__min_samples_split': 2, 'model__n_estimators': 10}\n",
      "mean:  0.8259876777662466 , std:  0.02358000397151142 {'model__max_depth': 100, 'model__min_samples_split': 2, 'model__n_estimators': 100}\n",
      "mean:  0.8258007431024379 , std:  0.026035179337953945 {'model__max_depth': 100, 'model__min_samples_split': 2, 'model__n_estimators': 100}\n",
      "mean:  0.8104981793930834 , std:  0.014577776193688155 {'model__max_depth': 100, 'model__min_samples_split': 4, 'model__n_estimators': 10}\n",
      "mean:  0.8285552060560887 , std:  0.02304322401948356 {'model__max_depth': 100, 'model__min_samples_split': 4, 'model__n_estimators': 100}\n",
      "mean:  0.829887301281617 , std:  0.021729404256075904 {'model__max_depth': 100, 'model__min_samples_split': 4, 'model__n_estimators': 100}\n",
      "mean:  0.8071783059499311 , std:  0.02756717519166759 {'model__max_depth': 100, 'model__min_samples_split': 8, 'model__n_estimators': 10}\n",
      "mean:  0.830097788524292 , std:  0.02320332796493186 {'model__max_depth': 100, 'model__min_samples_split': 8, 'model__n_estimators': 100}\n",
      "mean:  0.8292224052933715 , std:  0.02296575699120316 {'model__max_depth': 100, 'model__min_samples_split': 8, 'model__n_estimators': 100}\n",
      "mean:  0.7978974754013003 , std:  0.019167048534557835 {'model__max_depth': 1000, 'model__min_samples_split': 2, 'model__n_estimators': 10}\n",
      "mean:  0.825789524050675 , std:  0.02324768769544838 {'model__max_depth': 1000, 'model__min_samples_split': 2, 'model__n_estimators': 100}\n",
      "mean:  0.8247356018701788 , std:  0.021500309851338984 {'model__max_depth': 1000, 'model__min_samples_split': 2, 'model__n_estimators': 100}\n",
      "mean:  0.8133270892994914 , std:  0.021689338581870363 {'model__max_depth': 1000, 'model__min_samples_split': 4, 'model__n_estimators': 10}\n",
      "mean:  0.8302821970439953 , std:  0.022166625544516507 {'model__max_depth': 1000, 'model__min_samples_split': 4, 'model__n_estimators': 100}\n",
      "mean:  0.8272008956221031 , std:  0.022160563537490418 {'model__max_depth': 1000, 'model__min_samples_split': 4, 'model__n_estimators': 100}\n",
      "mean:  0.8132544255072796 , std:  0.03188734541573255 {'model__max_depth': 1000, 'model__min_samples_split': 8, 'model__n_estimators': 10}\n",
      "mean:  0.8327176971551457 , std:  0.021587542853151176 {'model__max_depth': 1000, 'model__min_samples_split': 8, 'model__n_estimators': 100}\n",
      "mean:  0.8336233941153323 , std:  0.02277761385539361 {'model__max_depth': 1000, 'model__min_samples_split': 8, 'model__n_estimators': 100}\n",
      "\n",
      "Wyniki na testowym:\n",
      "Regresja logistyczna  ( {'model__C': 1, 'model__penalty': 'l1'} ): 0.7459204780510228  : 0.7435554198162228  : 0.08092004988222253\n",
      "Drzewo decyzyjne  ( {'model__criterion': 'gini'} ): 0.6927909292882862  : 0.6965901481146886  : 0.06439570695286981\n",
      "Naiwny Bayes  ( {} ): 0.709185627825021  : 0.6199410336756386  : 0.05194805194805195\n",
      "RandomForest  ( {'model__max_depth': 10, 'model__min_samples_split': 2, 'model__n_estimators': 100} ): 0.6918716003983758  : 0.7523549611629324  : 0.07391204236702739\n"
     ]
    },
    {
     "data": {
      "text/html": [
       "<div>\n",
       "<style scoped>\n",
       "    .dataframe tbody tr th:only-of-type {\n",
       "        vertical-align: middle;\n",
       "    }\n",
       "\n",
       "    .dataframe tbody tr th {\n",
       "        vertical-align: top;\n",
       "    }\n",
       "\n",
       "    .dataframe thead th {\n",
       "        text-align: right;\n",
       "    }\n",
       "</style>\n",
       "<table border=\"1\" class=\"dataframe\">\n",
       "  <thead>\n",
       "    <tr style=\"text-align: right;\">\n",
       "      <th></th>\n",
       "      <th>Method</th>\n",
       "      <th>Accuracy Score Test</th>\n",
       "      <th>AUC Score test</th>\n",
       "      <th>F1 Score test</th>\n",
       "    </tr>\n",
       "  </thead>\n",
       "  <tbody>\n",
       "    <tr>\n",
       "      <th>0</th>\n",
       "      <td>Regresja logistyczna</td>\n",
       "      <td>0.745920</td>\n",
       "      <td>0.743555</td>\n",
       "      <td>0.080920</td>\n",
       "    </tr>\n",
       "    <tr>\n",
       "      <th>1</th>\n",
       "      <td>Drzewo decyzyjne</td>\n",
       "      <td>0.692791</td>\n",
       "      <td>0.696590</td>\n",
       "      <td>0.064396</td>\n",
       "    </tr>\n",
       "    <tr>\n",
       "      <th>2</th>\n",
       "      <td>Naiwny Bayes</td>\n",
       "      <td>0.709186</td>\n",
       "      <td>0.619941</td>\n",
       "      <td>0.051948</td>\n",
       "    </tr>\n",
       "    <tr>\n",
       "      <th>3</th>\n",
       "      <td>RandomForest</td>\n",
       "      <td>0.691872</td>\n",
       "      <td>0.752355</td>\n",
       "      <td>0.073912</td>\n",
       "    </tr>\n",
       "  </tbody>\n",
       "</table>\n",
       "</div>"
      ],
      "text/plain": [
       "                 Method  Accuracy Score Test  AUC Score test  F1 Score test\n",
       "0  Regresja logistyczna             0.745920        0.743555       0.080920\n",
       "1      Drzewo decyzyjne             0.692791        0.696590       0.064396\n",
       "2          Naiwny Bayes             0.709186        0.619941       0.051948\n",
       "3          RandomForest             0.691872        0.752355       0.073912"
      ]
     },
     "metadata": {},
     "output_type": "display_data"
    }
   ],
   "source": [
    "wybor_modelu(X_train_under, y_train_under, X_test, y_test, names, models, parameters, \"roc_auc\")"
   ]
  },
  {
   "cell_type": "markdown",
   "metadata": {},
   "source": [
    "### Uruchomienie modelowania na danych get_dummies _oversamplig"
   ]
  },
  {
   "cell_type": "code",
   "execution_count": 113,
   "metadata": {},
   "outputs": [
    {
     "name": "stdout",
     "output_type": "stream",
     "text": [
      "Fituję :  Regresja logistyczna\n"
     ]
    },
    {
     "name": "stderr",
     "output_type": "stream",
     "text": [
      "C:\\ProgramData\\Anaconda3\\lib\\site-packages\\sklearn\\linear_model\\logistic.py:433: FutureWarning: Default solver will be changed to 'lbfgs' in 0.22. Specify a solver to silence this warning.\n",
      "  FutureWarning)\n"
     ]
    },
    {
     "name": "stdout",
     "output_type": "stream",
     "text": [
      "mean:  0.8234297072080344 , std:  0.005466312058613042 {'model__C': 0.01, 'model__penalty': 'l1'}\n",
      "mean:  0.8260906478526112 , std:  0.005075797786935296 {'model__C': 0.01, 'model__penalty': 'l2'}\n",
      "mean:  0.8452276466052271 , std:  0.005110790468642454 {'model__C': 1, 'model__penalty': 'l1'}\n",
      "mean:  0.832047117873976 , std:  0.005220272056690075 {'model__C': 1, 'model__penalty': 'l2'}\n",
      "mean:  0.8457739335324573 , std:  0.005143699050087246 {'model__C': 10, 'model__penalty': 'l1'}\n",
      "mean:  0.8358252542382527 , std:  0.0048265757303474375 {'model__C': 10, 'model__penalty': 'l2'}\n",
      "mean:  0.8457674760007974 , std:  0.005142298943611609 {'model__C': 100, 'model__penalty': 'l1'}\n",
      "mean:  0.8430766223646142 , std:  0.004916941901558057 {'model__C': 100, 'model__penalty': 'l2'}\n",
      "Fituję :  Drzewo decyzyjne\n",
      "mean:  0.9917401308287268 , std:  0.0006842970362946163 {'model__criterion': 'gini'}\n",
      "mean:  0.9909193443196396 , std:  0.0007576122171513921 {'model__criterion': 'entropy'}\n",
      "Fituję :  Naiwny Bayes\n",
      "mean:  0.5694440230254108 , std:  0.006832855092241014 {}\n",
      "Fituję :  RandomForest\n",
      "mean:  0.9271451679709497 , std:  0.00451140922395213 {'model__max_depth': 10, 'model__min_samples_split': 2, 'model__n_estimators': 10}\n",
      "mean:  0.9363598400367316 , std:  0.0029356996534895888 {'model__max_depth': 10, 'model__min_samples_split': 2, 'model__n_estimators': 100}\n",
      "mean:  0.9365822358037966 , std:  0.002936846201643571 {'model__max_depth': 10, 'model__min_samples_split': 2, 'model__n_estimators': 100}\n",
      "mean:  0.9272636915733414 , std:  0.004011877440738852 {'model__max_depth': 10, 'model__min_samples_split': 4, 'model__n_estimators': 10}\n",
      "mean:  0.9373386032643231 , std:  0.0023993948425811112 {'model__max_depth': 10, 'model__min_samples_split': 4, 'model__n_estimators': 100}\n",
      "mean:  0.9371057463639237 , std:  0.0025512914102865164 {'model__max_depth': 10, 'model__min_samples_split': 4, 'model__n_estimators': 100}\n",
      "mean:  0.9238466221669404 , std:  0.00500432437030742 {'model__max_depth': 10, 'model__min_samples_split': 8, 'model__n_estimators': 10}\n",
      "mean:  0.9365072960059198 , std:  0.003272427204387556 {'model__max_depth': 10, 'model__min_samples_split': 8, 'model__n_estimators': 100}\n",
      "mean:  0.9363539107851384 , std:  0.0030469565581528755 {'model__max_depth': 10, 'model__min_samples_split': 8, 'model__n_estimators': 100}\n",
      "mean:  0.9999581703459338 , std:  5.605593937300759e-05 {'model__max_depth': 100, 'model__min_samples_split': 2, 'model__n_estimators': 10}\n",
      "mean:  0.9999581758945515 , std:  5.605176760876915e-05 {'model__max_depth': 100, 'model__min_samples_split': 2, 'model__n_estimators': 100}\n",
      "mean:  0.9999580982106696 , std:  5.608135729011613e-05 {'model__max_depth': 100, 'model__min_samples_split': 2, 'model__n_estimators': 100}\n",
      "mean:  0.9999581592486985 , std:  5.606429679566471e-05 {'model__max_depth': 100, 'model__min_samples_split': 4, 'model__n_estimators': 10}\n",
      "mean:  0.9999581370454471 , std:  5.600231360617664e-05 {'model__max_depth': 100, 'model__min_samples_split': 4, 'model__n_estimators': 100}\n",
      "mean:  0.9999581453725329 , std:  5.603324705999422e-05 {'model__max_depth': 100, 'model__min_samples_split': 4, 'model__n_estimators': 100}\n",
      "mean:  0.9999497100780376 , std:  5.543602141424319e-05 {'model__max_depth': 100, 'model__min_samples_split': 8, 'model__n_estimators': 10}\n",
      "mean:  0.9999581481468417 , std:  5.6031162363895406e-05 {'model__max_depth': 100, 'model__min_samples_split': 8, 'model__n_estimators': 100}\n",
      "mean:  0.9999581564743898 , std:  5.606638904520455e-05 {'model__max_depth': 100, 'model__min_samples_split': 8, 'model__n_estimators': 100}\n",
      "mean:  0.9999497572399009 , std:  5.539451345353329e-05 {'model__max_depth': 1000, 'model__min_samples_split': 2, 'model__n_estimators': 10}\n",
      "mean:  0.9999581758945515 , std:  5.605176760873602e-05 {'model__max_depth': 1000, 'model__min_samples_split': 2, 'model__n_estimators': 100}\n",
      "mean:  0.9999581509216127 , std:  5.603321766388278e-05 {'model__max_depth': 1000, 'model__min_samples_split': 2, 'model__n_estimators': 100}\n",
      "mean:  0.9999497711109828 , std:  5.538190897657112e-05 {'model__max_depth': 1000, 'model__min_samples_split': 4, 'model__n_estimators': 10}\n",
      "mean:  0.9999581176340664 , std:  5.609580199445554e-05 {'model__max_depth': 1000, 'model__min_samples_split': 4, 'model__n_estimators': 100}\n",
      "mean:  0.9999581259486741 , std:  5.60147617880009e-05 {'model__max_depth': 1000, 'model__min_samples_split': 4, 'model__n_estimators': 100}\n",
      "mean:  0.9999496781681715 , std:  5.5407290620302624e-05 {'model__max_depth': 1000, 'model__min_samples_split': 8, 'model__n_estimators': 10}\n",
      "mean:  0.9999581564688439 , std:  5.601664976182551e-05 {'model__max_depth': 1000, 'model__min_samples_split': 8, 'model__n_estimators': 100}\n",
      "mean:  0.9999664655278978 , std:  5.533426254344217e-05 {'model__max_depth': 1000, 'model__min_samples_split': 8, 'model__n_estimators': 100}\n",
      "\n",
      "Wyniki na testowym:\n",
      "Regresja logistyczna  ( {'model__C': 10, 'model__penalty': 'l1'} ): 0.7564544549145791  : 0.7351576344293209  : 0.08121387283236994\n",
      "Drzewo decyzyjne  ( {'model__criterion': 'gini'} ): 0.9697770627441967  : 0.5160609595077374  : 0.04594921402660218\n",
      "Naiwny Bayes  ( {} ): 0.578717536198575  : 0.5412114748609352  : 0.03475513428120063\n",
      "RandomForest  ( {'model__max_depth': 1000, 'model__min_samples_split': 8, 'model__n_estimators': 100} ): 0.9841415766490462  : 0.5021102552601404  : 0.009569377990430622\n"
     ]
    },
    {
     "data": {
      "text/html": [
       "<div>\n",
       "<style scoped>\n",
       "    .dataframe tbody tr th:only-of-type {\n",
       "        vertical-align: middle;\n",
       "    }\n",
       "\n",
       "    .dataframe tbody tr th {\n",
       "        vertical-align: top;\n",
       "    }\n",
       "\n",
       "    .dataframe thead th {\n",
       "        text-align: right;\n",
       "    }\n",
       "</style>\n",
       "<table border=\"1\" class=\"dataframe\">\n",
       "  <thead>\n",
       "    <tr style=\"text-align: right;\">\n",
       "      <th></th>\n",
       "      <th>Method</th>\n",
       "      <th>Accuracy Score Test</th>\n",
       "      <th>AUC Score test</th>\n",
       "      <th>F1 Score test</th>\n",
       "    </tr>\n",
       "  </thead>\n",
       "  <tbody>\n",
       "    <tr>\n",
       "      <th>0</th>\n",
       "      <td>Regresja logistyczna</td>\n",
       "      <td>0.756454</td>\n",
       "      <td>0.735158</td>\n",
       "      <td>0.081214</td>\n",
       "    </tr>\n",
       "    <tr>\n",
       "      <th>1</th>\n",
       "      <td>Drzewo decyzyjne</td>\n",
       "      <td>0.969777</td>\n",
       "      <td>0.516061</td>\n",
       "      <td>0.045949</td>\n",
       "    </tr>\n",
       "    <tr>\n",
       "      <th>2</th>\n",
       "      <td>Naiwny Bayes</td>\n",
       "      <td>0.578718</td>\n",
       "      <td>0.541211</td>\n",
       "      <td>0.034755</td>\n",
       "    </tr>\n",
       "    <tr>\n",
       "      <th>3</th>\n",
       "      <td>RandomForest</td>\n",
       "      <td>0.984142</td>\n",
       "      <td>0.502110</td>\n",
       "      <td>0.009569</td>\n",
       "    </tr>\n",
       "  </tbody>\n",
       "</table>\n",
       "</div>"
      ],
      "text/plain": [
       "                 Method  Accuracy Score Test  AUC Score test  F1 Score test\n",
       "0  Regresja logistyczna             0.756454        0.735158       0.081214\n",
       "1      Drzewo decyzyjne             0.969777        0.516061       0.045949\n",
       "2          Naiwny Bayes             0.578718        0.541211       0.034755\n",
       "3          RandomForest             0.984142        0.502110       0.009569"
      ]
     },
     "metadata": {},
     "output_type": "display_data"
    }
   ],
   "source": [
    "wybor_modelu(X_train_over, y_train_over, X_test, y_test, names, models, parameters, \"roc_auc\")"
   ]
  },
  {
   "cell_type": "markdown",
   "metadata": {},
   "source": [
    "# Dodatkowa analiza z zastąpieniem get_dumies -> LabelEncoderem"
   ]
  },
  {
   "cell_type": "code",
   "execution_count": 114,
   "metadata": {},
   "outputs": [
    {
     "name": "stdout",
     "output_type": "stream",
     "text": [
      "count_class_0:  68611 , count_class_1:  1005\n"
     ]
    },
    {
     "data": {
      "text/plain": [
       "<matplotlib.axes._subplots.AxesSubplot at 0x194e85ed0f0>"
      ]
     },
     "execution_count": 114,
     "metadata": {},
     "output_type": "execute_result"
    },
    {
     "data": {
      "image/png": "[encoded data removed]",
      "text/plain": [
       "<Figure size 432x288 with 1 Axes>"
      ]
     },
     "metadata": {},
     "output_type": "display_data"
    }
   ],
   "source": [
    "data_target = data_target_le.copy()\n",
    "X_train, X_test, y_train, y_test = train_test_split(data_target.drop([\"Disbursed\"], axis = 1), data_target.Disbursed, test_size=0.2, random_state=123)\n",
    "\n",
    "X_concat = pd.concat([X_train, y_train], axis=1)\n",
    "\n",
    "count_class_0, count_class_1 = X_concat['Disbursed'].value_counts()\n",
    "print('count_class_0: ', count_class_0, ', count_class_1: ', count_class_1)\n",
    "data_target_class_0=X_concat[X_concat['Disbursed']==0]\n",
    "data_target_class_1=X_concat[X_concat['Disbursed']==1]\n",
    "X_concat['Disbursed'].value_counts().plot(kind='bar', title='Count (Disbursed)')"
   ]
  },
  {
   "cell_type": "code",
   "execution_count": 115,
   "metadata": {},
   "outputs": [
    {
     "data": {
      "text/html": [
       "<div>\n",
       "<style scoped>\n",
       "    .dataframe tbody tr th:only-of-type {\n",
       "        vertical-align: middle;\n",
       "    }\n",
       "\n",
       "    .dataframe tbody tr th {\n",
       "        vertical-align: top;\n",
       "    }\n",
       "\n",
       "    .dataframe thead th {\n",
       "        text-align: right;\n",
       "    }\n",
       "</style>\n",
       "<table border=\"1\" class=\"dataframe\">\n",
       "  <thead>\n",
       "    <tr style=\"text-align: right;\">\n",
       "      <th></th>\n",
       "      <th>Gender</th>\n",
       "      <th>City</th>\n",
       "      <th>Monthly_Income</th>\n",
       "      <th>Loan_Amount_Applied</th>\n",
       "      <th>Loan_Tenure_Applied</th>\n",
       "      <th>Existing_EMI</th>\n",
       "      <th>Employer_Name</th>\n",
       "      <th>Salary_Account</th>\n",
       "      <th>Mobile_Verified</th>\n",
       "      <th>Var5</th>\n",
       "      <th>Var1</th>\n",
       "      <th>Filled_Form</th>\n",
       "      <th>Device_Type</th>\n",
       "      <th>Var2</th>\n",
       "      <th>Source</th>\n",
       "      <th>Var4</th>\n",
       "      <th>Disbursed</th>\n",
       "      <th>Age_In_Days</th>\n",
       "    </tr>\n",
       "  </thead>\n",
       "  <tbody>\n",
       "    <tr>\n",
       "      <th>0</th>\n",
       "      <td>0</td>\n",
       "      <td>4</td>\n",
       "      <td>20000</td>\n",
       "      <td>300000.0</td>\n",
       "      <td>5.0</td>\n",
       "      <td>0.0</td>\n",
       "      <td>30</td>\n",
       "      <td>5</td>\n",
       "      <td>0</td>\n",
       "      <td>0</td>\n",
       "      <td>8</td>\n",
       "      <td>0</td>\n",
       "      <td>1</td>\n",
       "      <td>3</td>\n",
       "      <td>1</td>\n",
       "      <td>1</td>\n",
       "      <td>0</td>\n",
       "      <td>13506.0</td>\n",
       "    </tr>\n",
       "    <tr>\n",
       "      <th>1</th>\n",
       "      <td>1</td>\n",
       "      <td>9</td>\n",
       "      <td>35000</td>\n",
       "      <td>200000.0</td>\n",
       "      <td>2.0</td>\n",
       "      <td>0.0</td>\n",
       "      <td>27</td>\n",
       "      <td>6</td>\n",
       "      <td>1</td>\n",
       "      <td>13</td>\n",
       "      <td>3</td>\n",
       "      <td>0</td>\n",
       "      <td>1</td>\n",
       "      <td>3</td>\n",
       "      <td>1</td>\n",
       "      <td>3</td>\n",
       "      <td>0</td>\n",
       "      <td>10801.0</td>\n",
       "    </tr>\n",
       "    <tr>\n",
       "      <th>2</th>\n",
       "      <td>1</td>\n",
       "      <td>10</td>\n",
       "      <td>22500</td>\n",
       "      <td>600000.0</td>\n",
       "      <td>4.0</td>\n",
       "      <td>0.0</td>\n",
       "      <td>30</td>\n",
       "      <td>14</td>\n",
       "      <td>1</td>\n",
       "      <td>0</td>\n",
       "      <td>8</td>\n",
       "      <td>0</td>\n",
       "      <td>1</td>\n",
       "      <td>0</td>\n",
       "      <td>6</td>\n",
       "      <td>1</td>\n",
       "      <td>0</td>\n",
       "      <td>12274.0</td>\n",
       "    </tr>\n",
       "    <tr>\n",
       "      <th>3</th>\n",
       "      <td>1</td>\n",
       "      <td>10</td>\n",
       "      <td>35000</td>\n",
       "      <td>1000000.0</td>\n",
       "      <td>5.0</td>\n",
       "      <td>0.0</td>\n",
       "      <td>30</td>\n",
       "      <td>14</td>\n",
       "      <td>1</td>\n",
       "      <td>10</td>\n",
       "      <td>8</td>\n",
       "      <td>0</td>\n",
       "      <td>1</td>\n",
       "      <td>0</td>\n",
       "      <td>6</td>\n",
       "      <td>3</td>\n",
       "      <td>0</td>\n",
       "      <td>10022.0</td>\n",
       "    </tr>\n",
       "    <tr>\n",
       "      <th>4</th>\n",
       "      <td>1</td>\n",
       "      <td>1</td>\n",
       "      <td>100000</td>\n",
       "      <td>500000.0</td>\n",
       "      <td>2.0</td>\n",
       "      <td>25000.0</td>\n",
       "      <td>30</td>\n",
       "      <td>5</td>\n",
       "      <td>1</td>\n",
       "      <td>17</td>\n",
       "      <td>8</td>\n",
       "      <td>0</td>\n",
       "      <td>1</td>\n",
       "      <td>0</td>\n",
       "      <td>4</td>\n",
       "      <td>3</td>\n",
       "      <td>0</td>\n",
       "      <td>11415.0</td>\n",
       "    </tr>\n",
       "  </tbody>\n",
       "</table>\n",
       "</div>"
      ],
      "text/plain": [
       "   Gender  City  Monthly_Income  Loan_Amount_Applied  Loan_Tenure_Applied  \\\n",
       "0       0     4           20000             300000.0                  5.0   \n",
       "1       1     9           35000             200000.0                  2.0   \n",
       "2       1    10           22500             600000.0                  4.0   \n",
       "3       1    10           35000            1000000.0                  5.0   \n",
       "4       1     1          100000             500000.0                  2.0   \n",
       "\n",
       "   Existing_EMI  Employer_Name  Salary_Account  Mobile_Verified  Var5  Var1  \\\n",
       "0           0.0             30               5                0     0     8   \n",
       "1           0.0             27               6                1    13     3   \n",
       "2           0.0             30              14                1     0     8   \n",
       "3           0.0             30              14                1    10     8   \n",
       "4       25000.0             30               5                1    17     8   \n",
       "\n",
       "   Filled_Form  Device_Type  Var2  Source  Var4  Disbursed  Age_In_Days  \n",
       "0            0            1     3       1     1          0      13506.0  \n",
       "1            0            1     3       1     3          0      10801.0  \n",
       "2            0            1     0       6     1          0      12274.0  \n",
       "3            0            1     0       6     3          0      10022.0  \n",
       "4            0            1     0       4     3          0      11415.0  "
      ]
     },
     "execution_count": 115,
     "metadata": {},
     "output_type": "execute_result"
    }
   ],
   "source": [
    "data_target.head()"
   ]
  },
  {
   "cell_type": "code",
   "execution_count": 116,
   "metadata": {},
   "outputs": [
    {
     "name": "stdout",
     "output_type": "stream",
     "text": [
      "Fituję :  Regresja logistyczna\n"
     ]
    },
    {
     "name": "stderr",
     "output_type": "stream",
     "text": [
      "C:\\ProgramData\\Anaconda3\\lib\\site-packages\\sklearn\\linear_model\\logistic.py:433: FutureWarning: Default solver will be changed to 'lbfgs' in 0.22. Specify a solver to silence this warning.\n",
      "  FutureWarning)\n"
     ]
    },
    {
     "name": "stdout",
     "output_type": "stream",
     "text": [
      "mean:  0.751637619259385 , std:  0.02310875148286255 {'model__C': 0.01, 'model__penalty': 'l1'}\n",
      "mean:  0.7388666234707824 , std:  0.015129360036287395 {'model__C': 0.01, 'model__penalty': 'l2'}\n",
      "mean:  0.7827369093037267 , std:  0.014917063248193018 {'model__C': 1, 'model__penalty': 'l1'}\n",
      "mean:  0.7827015823955106 , std:  0.015244856281379119 {'model__C': 1, 'model__penalty': 'l2'}\n",
      "mean:  0.7846901399517636 , std:  0.015939066281885864 {'model__C': 10, 'model__penalty': 'l1'}\n",
      "mean:  0.7831546388111111 , std:  0.014951567257043764 {'model__C': 10, 'model__penalty': 'l2'}\n",
      "mean:  0.7872532679717114 , std:  0.017967750083326583 {'model__C': 100, 'model__penalty': 'l1'}\n",
      "mean:  0.7834163493992742 , std:  0.014947534734257329 {'model__C': 100, 'model__penalty': 'l2'}\n",
      "Fituję :  Drzewo decyzyjne\n",
      "mean:  0.522548129443614 , std:  0.010606943070531777 {'model__criterion': 'gini'}\n",
      "mean:  0.5230935653670732 , std:  0.013924784956630694 {'model__criterion': 'entropy'}\n",
      "Fituję :  Naiwny Bayes\n",
      "mean:  0.5499764911732034 , std:  0.02284366094464882 {}\n",
      "Fituję :  RandomForest\n",
      "mean:  0.8265861205699082 , std:  0.014538335345172165 {'model__max_depth': 10, 'model__min_samples_split': 2, 'model__n_estimators': 10}\n",
      "mean:  0.8372200662047949 , std:  0.014487319571765822 {'model__max_depth': 10, 'model__min_samples_split': 2, 'model__n_estimators': 100}\n",
      "mean:  0.8364120685042618 , std:  0.015291275750879952 {'model__max_depth': 10, 'model__min_samples_split': 2, 'model__n_estimators': 100}\n",
      "mean:  0.8224693321327614 , std:  0.013441037477784383 {'model__max_depth': 10, 'model__min_samples_split': 4, 'model__n_estimators': 10}\n",
      "mean:  0.8379438658473052 , std:  0.012518062365680744 {'model__max_depth': 10, 'model__min_samples_split': 4, 'model__n_estimators': 100}\n",
      "mean:  0.8371608832776464 , std:  0.011514122414374882 {'model__max_depth': 10, 'model__min_samples_split': 4, 'model__n_estimators': 100}\n",
      "mean:  0.8199408497379762 , std:  0.01175929818206601 {'model__max_depth': 10, 'model__min_samples_split': 8, 'model__n_estimators': 10}\n",
      "mean:  0.836300630408155 , std:  0.01378948409398307 {'model__max_depth': 10, 'model__min_samples_split': 8, 'model__n_estimators': 100}\n",
      "mean:  0.8376167238870594 , std:  0.011661070531864161 {'model__max_depth': 10, 'model__min_samples_split': 8, 'model__n_estimators': 100}\n",
      "mean:  0.6310803087868181 , std:  0.0165232063005149 {'model__max_depth': 100, 'model__min_samples_split': 2, 'model__n_estimators': 10}\n",
      "mean:  0.7866914145450072 , std:  0.012595946773414444 {'model__max_depth': 100, 'model__min_samples_split': 2, 'model__n_estimators': 100}\n",
      "mean:  0.7835821417843237 , std:  0.01556638561896289 {'model__max_depth': 100, 'model__min_samples_split': 2, 'model__n_estimators': 100}\n",
      "mean:  0.663974162529769 , std:  0.025585591229870003 {'model__max_depth': 100, 'model__min_samples_split': 4, 'model__n_estimators': 10}\n",
      "mean:  0.7929552573101641 , std:  0.018865142455974603 {'model__max_depth': 100, 'model__min_samples_split': 4, 'model__n_estimators': 100}\n",
      "mean:  0.7987221660358487 , std:  0.017767224422413908 {'model__max_depth': 100, 'model__min_samples_split': 4, 'model__n_estimators': 100}\n",
      "mean:  0.703622374456107 , std:  0.033057353500736436 {'model__max_depth': 100, 'model__min_samples_split': 8, 'model__n_estimators': 10}\n",
      "mean:  0.8143209703609052 , std:  0.009782778732014386 {'model__max_depth': 100, 'model__min_samples_split': 8, 'model__n_estimators': 100}\n",
      "mean:  0.8090134660023424 , std:  0.013660043328146087 {'model__max_depth': 100, 'model__min_samples_split': 8, 'model__n_estimators': 100}\n",
      "mean:  0.6401668656902273 , std:  0.014216671445503523 {'model__max_depth': 1000, 'model__min_samples_split': 2, 'model__n_estimators': 10}\n",
      "mean:  0.7845211503860025 , std:  0.011965107644098243 {'model__max_depth': 1000, 'model__min_samples_split': 2, 'model__n_estimators': 100}\n",
      "mean:  0.7854123875845452 , std:  0.009353497494316736 {'model__max_depth': 1000, 'model__min_samples_split': 2, 'model__n_estimators': 100}\n",
      "mean:  0.6627888573533788 , std:  0.021557910256162813 {'model__max_depth': 1000, 'model__min_samples_split': 4, 'model__n_estimators': 10}\n",
      "mean:  0.7965392729786527 , std:  0.015750307916550705 {'model__max_depth': 1000, 'model__min_samples_split': 4, 'model__n_estimators': 100}\n",
      "mean:  0.8026551031323648 , std:  0.015216525893524076 {'model__max_depth': 1000, 'model__min_samples_split': 4, 'model__n_estimators': 100}\n",
      "mean:  0.7054785554722682 , std:  0.014407895113471842 {'model__max_depth': 1000, 'model__min_samples_split': 8, 'model__n_estimators': 10}\n",
      "mean:  0.8117417076688636 , std:  0.010357656794264997 {'model__max_depth': 1000, 'model__min_samples_split': 8, 'model__n_estimators': 100}\n",
      "mean:  0.815251277166463 , std:  0.008348486654913853 {'model__max_depth': 1000, 'model__min_samples_split': 8, 'model__n_estimators': 100}\n",
      "\n",
      "Wyniki na testowym:\n",
      "Regresja logistyczna  ( {'model__C': 100, 'model__penalty': 'l1'} ): 0.9846012410940014  : 0.5  : 0.0\n",
      "Drzewo decyzyjne  ( {'model__criterion': 'entropy'} ): 0.9688577338542864  : 0.5232255215519044  : 0.059027777777777776\n",
      "Naiwny Bayes  ( {} ): 0.5339577108710641  : 0.5429553040121521  : 0.03520875460925419\n"
     ]
    },
    {
     "name": "stderr",
     "output_type": "stream",
     "text": [
      "C:\\ProgramData\\Anaconda3\\lib\\site-packages\\sklearn\\metrics\\classification.py:1143: UndefinedMetricWarning: F-score is ill-defined and being set to 0.0 due to no predicted samples.\n",
      "  'precision', 'predicted', average, warn_for)\n"
     ]
    },
    {
     "name": "stdout",
     "output_type": "stream",
     "text": [
      "RandomForest  ( {'model__max_depth': 10, 'model__min_samples_split': 4, 'model__n_estimators': 100} ): 0.9846012410940014  : 0.5  : 0.0\n"
     ]
    },
    {
     "name": "stderr",
     "output_type": "stream",
     "text": [
      "C:\\ProgramData\\Anaconda3\\lib\\site-packages\\sklearn\\metrics\\classification.py:1143: UndefinedMetricWarning: F-score is ill-defined and being set to 0.0 due to no predicted samples.\n",
      "  'precision', 'predicted', average, warn_for)\n"
     ]
    },
    {
     "data": {
      "text/html": [
       "<div>\n",
       "<style scoped>\n",
       "    .dataframe tbody tr th:only-of-type {\n",
       "        vertical-align: middle;\n",
       "    }\n",
       "\n",
       "    .dataframe tbody tr th {\n",
       "        vertical-align: top;\n",
       "    }\n",
       "\n",
       "    .dataframe thead th {\n",
       "        text-align: right;\n",
       "    }\n",
       "</style>\n",
       "<table border=\"1\" class=\"dataframe\">\n",
       "  <thead>\n",
       "    <tr style=\"text-align: right;\">\n",
       "      <th></th>\n",
       "      <th>Method</th>\n",
       "      <th>Accuracy Score Test</th>\n",
       "      <th>AUC Score test</th>\n",
       "      <th>F1 Score test</th>\n",
       "    </tr>\n",
       "  </thead>\n",
       "  <tbody>\n",
       "    <tr>\n",
       "      <th>0</th>\n",
       "      <td>Regresja logistyczna</td>\n",
       "      <td>0.984601</td>\n",
       "      <td>0.500000</td>\n",
       "      <td>0.000000</td>\n",
       "    </tr>\n",
       "    <tr>\n",
       "      <th>1</th>\n",
       "      <td>Drzewo decyzyjne</td>\n",
       "      <td>0.968858</td>\n",
       "      <td>0.523226</td>\n",
       "      <td>0.059028</td>\n",
       "    </tr>\n",
       "    <tr>\n",
       "      <th>2</th>\n",
       "      <td>Naiwny Bayes</td>\n",
       "      <td>0.533958</td>\n",
       "      <td>0.542955</td>\n",
       "      <td>0.035209</td>\n",
       "    </tr>\n",
       "    <tr>\n",
       "      <th>3</th>\n",
       "      <td>RandomForest</td>\n",
       "      <td>0.984601</td>\n",
       "      <td>0.500000</td>\n",
       "      <td>0.000000</td>\n",
       "    </tr>\n",
       "  </tbody>\n",
       "</table>\n",
       "</div>"
      ],
      "text/plain": [
       "                 Method  Accuracy Score Test  AUC Score test  F1 Score test\n",
       "0  Regresja logistyczna             0.984601        0.500000       0.000000\n",
       "1      Drzewo decyzyjne             0.968858        0.523226       0.059028\n",
       "2          Naiwny Bayes             0.533958        0.542955       0.035209\n",
       "3          RandomForest             0.984601        0.500000       0.000000"
      ]
     },
     "metadata": {},
     "output_type": "display_data"
    }
   ],
   "source": [
    "#Uruchomienie modelowania na danych niezbalansowanych LabelEncoder\n",
    "wybor_modelu(X_train, y_train, X_test, y_test, names, models, parameters, \"roc_auc\")"
   ]
  },
  {
   "cell_type": "markdown",
   "metadata": {},
   "source": [
    "### UNDERsamplig"
   ]
  },
  {
   "cell_type": "code",
   "execution_count": 117,
   "metadata": {
    "scrolled": true
   },
   "outputs": [
    {
     "name": "stdout",
     "output_type": "stream",
     "text": [
      "1    1005\n",
      "0    1005\n",
      "Name: Disbursed, dtype: int64\n"
     ]
    },
    {
     "data": {
      "image/png": "[encoded data removed]",
      "text/plain": [
       "<Figure size 432x288 with 1 Axes>"
      ]
     },
     "metadata": {},
     "output_type": "display_data"
    }
   ],
   "source": [
    "data_target_class_0_under=data_target_class_0.sample(count_class_1)\n",
    "data_target_under = pd.concat([data_target_class_0_under,data_target_class_1],axis=0)\n",
    "print(data_target_under['Disbursed'].value_counts())\n",
    "data_target_under['Disbursed'].value_counts().plot(kind='bar', title='Count (Disbursed)')\n",
    "plt.show()"
   ]
  },
  {
   "cell_type": "code",
   "execution_count": 119,
   "metadata": {},
   "outputs": [],
   "source": [
    "X_train_under = data_target_under.drop([\"Disbursed\"], axis = 1)\n",
    "y_train_under = data_target_under.Disbursed"
   ]
  },
  {
   "cell_type": "code",
   "execution_count": 120,
   "metadata": {},
   "outputs": [
    {
     "name": "stdout",
     "output_type": "stream",
     "text": [
      "Fituję :  Regresja logistyczna\n"
     ]
    },
    {
     "name": "stderr",
     "output_type": "stream",
     "text": [
      "C:\\ProgramData\\Anaconda3\\lib\\site-packages\\sklearn\\linear_model\\logistic.py:433: FutureWarning: Default solver will be changed to 'lbfgs' in 0.22. Specify a solver to silence this warning.\n",
      "  FutureWarning)\n"
     ]
    },
    {
     "name": "stdout",
     "output_type": "stream",
     "text": [
      "mean:  0.7472193488005516 , std:  0.04346195397548709 {'model__C': 0.01, 'model__penalty': 'l1'}\n",
      "mean:  0.7551050687158268 , std:  0.03234258733081009 {'model__C': 0.01, 'model__penalty': 'l2'}\n",
      "mean:  0.7999793113639722 , std:  0.03569114107137348 {'model__C': 1, 'model__penalty': 'l1'}\n",
      "mean:  0.7922051130486184 , std:  0.03280801165002847 {'model__C': 1, 'model__penalty': 'l2'}\n",
      "mean:  0.8023084577114429 , std:  0.0357399202593265 {'model__C': 10, 'model__penalty': 'l1'}\n",
      "mean:  0.800499679818728 , std:  0.0341099960950706 {'model__C': 10, 'model__penalty': 'l2'}\n",
      "mean:  0.8024567262696417 , std:  0.0359635458439828 {'model__C': 100, 'model__penalty': 'l1'}\n",
      "mean:  0.8022584109157184 , std:  0.03567605404295645 {'model__C': 100, 'model__penalty': 'l2'}\n",
      "Fituję :  Drzewo decyzyjne\n",
      "mean:  0.6736318407960199 , std:  0.03522264423868038 {'model__criterion': 'gini'}\n",
      "mean:  0.6791044776119403 , std:  0.023134415752435685 {'model__criterion': 'entropy'}\n",
      "Fituję :  Naiwny Bayes\n",
      "mean:  0.6195792818087779 , std:  0.04776051485635711 {}\n",
      "Fituję :  RandomForest\n",
      "mean:  0.817723757450372 , std:  0.024419074123004484 {'model__max_depth': 10, 'model__min_samples_split': 2, 'model__n_estimators': 10}\n",
      "mean:  0.8283163390965962 , std:  0.0272053448737074 {'model__max_depth': 10, 'model__min_samples_split': 2, 'model__n_estimators': 100}\n",
      "mean:  0.8317918329146347 , std:  0.0252302522094606 {'model__max_depth': 10, 'model__min_samples_split': 2, 'model__n_estimators': 100}\n",
      "mean:  0.8149768976897689 , std:  0.026212893915648988 {'model__max_depth': 10, 'model__min_samples_split': 4, 'model__n_estimators': 10}\n",
      "mean:  0.8353671247721788 , std:  0.027474368162299357 {'model__max_depth': 10, 'model__min_samples_split': 4, 'model__n_estimators': 100}\n",
      "mean:  0.8295728289246835 , std:  0.027171115042795894 {'model__max_depth': 10, 'model__min_samples_split': 4, 'model__n_estimators': 100}\n",
      "mean:  0.8194361854095856 , std:  0.027906955285681594 {'model__max_depth': 10, 'model__min_samples_split': 8, 'model__n_estimators': 10}\n",
      "mean:  0.8331413230875326 , std:  0.02638439074796403 {'model__max_depth': 10, 'model__min_samples_split': 8, 'model__n_estimators': 100}\n",
      "mean:  0.8312151125560316 , std:  0.02599326187673241 {'model__max_depth': 10, 'model__min_samples_split': 8, 'model__n_estimators': 100}\n",
      "mean:  0.8108040983202799 , std:  0.03058633338480625 {'model__max_depth': 100, 'model__min_samples_split': 2, 'model__n_estimators': 10}\n",
      "mean:  0.8268891680212799 , std:  0.028252753156137324 {'model__max_depth': 100, 'model__min_samples_split': 2, 'model__n_estimators': 100}\n",
      "mean:  0.8276293286045022 , std:  0.026392121923662287 {'model__max_depth': 100, 'model__min_samples_split': 2, 'model__n_estimators': 100}\n",
      "mean:  0.8058295157873997 , std:  0.026730634754974194 {'model__max_depth': 100, 'model__min_samples_split': 4, 'model__n_estimators': 10}\n",
      "mean:  0.8311940791094036 , std:  0.028038259720941358 {'model__max_depth': 100, 'model__min_samples_split': 4, 'model__n_estimators': 100}\n",
      "mean:  0.8294833259445348 , std:  0.022761005116679348 {'model__max_depth': 100, 'model__min_samples_split': 4, 'model__n_estimators': 100}\n",
      "mean:  0.8133506723806708 , std:  0.029205507316379786 {'model__max_depth': 100, 'model__min_samples_split': 8, 'model__n_estimators': 10}\n",
      "mean:  0.8276261267917836 , std:  0.027581123322388428 {'model__max_depth': 100, 'model__min_samples_split': 8, 'model__n_estimators': 100}\n",
      "mean:  0.8317236589330576 , std:  0.026418575101270398 {'model__max_depth': 100, 'model__min_samples_split': 8, 'model__n_estimators': 100}\n",
      "mean:  0.806474213092951 , std:  0.032221498005905305 {'model__max_depth': 1000, 'model__min_samples_split': 2, 'model__n_estimators': 10}\n",
      "mean:  0.8251899413821978 , std:  0.026903338884101662 {'model__max_depth': 1000, 'model__min_samples_split': 2, 'model__n_estimators': 100}\n",
      "mean:  0.8297014925373134 , std:  0.021236226865705452 {'model__max_depth': 1000, 'model__min_samples_split': 2, 'model__n_estimators': 100}\n",
      "mean:  0.8046388355253435 , std:  0.033690563180893585 {'model__max_depth': 1000, 'model__min_samples_split': 4, 'model__n_estimators': 10}\n",
      "mean:  0.8297599133047633 , std:  0.02637456077402378 {'model__max_depth': 1000, 'model__min_samples_split': 4, 'model__n_estimators': 100}\n",
      "mean:  0.8296994729323679 , std:  0.028341306926820672 {'model__max_depth': 1000, 'model__min_samples_split': 4, 'model__n_estimators': 100}\n",
      "mean:  0.8196046500172407 , std:  0.029550628164581226 {'model__max_depth': 1000, 'model__min_samples_split': 8, 'model__n_estimators': 10}\n",
      "mean:  0.829435101719127 , std:  0.028435135842438584 {'model__max_depth': 1000, 'model__min_samples_split': 8, 'model__n_estimators': 100}\n",
      "mean:  0.8294440667947391 , std:  0.0267521984014862 {'model__max_depth': 1000, 'model__min_samples_split': 8, 'model__n_estimators': 100}\n",
      "\n",
      "Wyniki na testowym:\n",
      "Regresja logistyczna  ( {'model__C': 100, 'model__penalty': 'l1'} ): 0.717363824408182  : 0.7389361839263069  : 0.0765909517552093\n",
      "Drzewo decyzyjne  ( {'model__criterion': 'entropy'} ): 0.686164100206849  : 0.6992179334420335  : 0.06536618754277893\n",
      "Naiwny Bayes  ( {} ): 0.7098368191220409  : 0.6194147435093441  : 0.05288822205551387\n",
      "RandomForest  ( {'model__max_depth': 10, 'model__min_samples_split': 4, 'model__n_estimators': 100} ): 0.6742128246380142  : 0.7482436382513205  : 0.07231675392670157\n"
     ]
    },
    {
     "data": {
      "text/html": [
       "<div>\n",
       "<style scoped>\n",
       "    .dataframe tbody tr th:only-of-type {\n",
       "        vertical-align: middle;\n",
       "    }\n",
       "\n",
       "    .dataframe tbody tr th {\n",
       "        vertical-align: top;\n",
       "    }\n",
       "\n",
       "    .dataframe thead th {\n",
       "        text-align: right;\n",
       "    }\n",
       "</style>\n",
       "<table border=\"1\" class=\"dataframe\">\n",
       "  <thead>\n",
       "    <tr style=\"text-align: right;\">\n",
       "      <th></th>\n",
       "      <th>Method</th>\n",
       "      <th>Accuracy Score Test</th>\n",
       "      <th>AUC Score test</th>\n",
       "      <th>F1 Score test</th>\n",
       "    </tr>\n",
       "  </thead>\n",
       "  <tbody>\n",
       "    <tr>\n",
       "      <th>0</th>\n",
       "      <td>Regresja logistyczna</td>\n",
       "      <td>0.717364</td>\n",
       "      <td>0.738936</td>\n",
       "      <td>0.076591</td>\n",
       "    </tr>\n",
       "    <tr>\n",
       "      <th>1</th>\n",
       "      <td>Drzewo decyzyjne</td>\n",
       "      <td>0.686164</td>\n",
       "      <td>0.699218</td>\n",
       "      <td>0.065366</td>\n",
       "    </tr>\n",
       "    <tr>\n",
       "      <th>2</th>\n",
       "      <td>Naiwny Bayes</td>\n",
       "      <td>0.709837</td>\n",
       "      <td>0.619415</td>\n",
       "      <td>0.052888</td>\n",
       "    </tr>\n",
       "    <tr>\n",
       "      <th>3</th>\n",
       "      <td>RandomForest</td>\n",
       "      <td>0.674213</td>\n",
       "      <td>0.748244</td>\n",
       "      <td>0.072317</td>\n",
       "    </tr>\n",
       "  </tbody>\n",
       "</table>\n",
       "</div>"
      ],
      "text/plain": [
       "                 Method  Accuracy Score Test  AUC Score test  F1 Score test\n",
       "0  Regresja logistyczna             0.717364        0.738936       0.076591\n",
       "1      Drzewo decyzyjne             0.686164        0.699218       0.065366\n",
       "2          Naiwny Bayes             0.709837        0.619415       0.052888\n",
       "3          RandomForest             0.674213        0.748244       0.072317"
      ]
     },
     "metadata": {},
     "output_type": "display_data"
    }
   ],
   "source": [
    "### Uruchoemienie modelowania na danych LabelEncoder _undersampling\n",
    "wybor_modelu(X_train_under, y_train_under, X_test, y_test, names, models, parameters, \"roc_auc\")"
   ]
  },
  {
   "cell_type": "markdown",
   "metadata": {},
   "source": [
    "### OVERsamplig"
   ]
  },
  {
   "cell_type": "code",
   "execution_count": 121,
   "metadata": {},
   "outputs": [
    {
     "name": "stdout",
     "output_type": "stream",
     "text": [
      "1    68611\n",
      "0    68611\n",
      "Name: Disbursed, dtype: int64\n"
     ]
    },
    {
     "data": {
      "text/plain": [
       "<matplotlib.axes._subplots.AxesSubplot at 0x194e8983198>"
      ]
     },
     "execution_count": 121,
     "metadata": {},
     "output_type": "execute_result"
    },
    {
     "data": {
      "image/png": "[encoded data removed]",
      "text/plain": [
       "<Figure size 432x288 with 1 Axes>"
      ]
     },
     "metadata": {},
     "output_type": "display_data"
    }
   ],
   "source": [
    "data_target_class_1_over=data_target_class_1.sample(count_class_0,replace=True) # ze zwracaniem, ponieważ nie mamy tyle danych\n",
    "data_target_over = pd.concat([data_target_class_0,data_target_class_1_over],axis=0)\n",
    "print(data_target_over['Disbursed'].value_counts())\n",
    "data_target_over['Disbursed'].value_counts().plot(kind='bar', title='Count (Disbursed)')\n"
   ]
  },
  {
   "cell_type": "code",
   "execution_count": 122,
   "metadata": {},
   "outputs": [],
   "source": [
    "X_train_over = data_target_over.drop([\"Disbursed\"], axis = 1)\n",
    "y_train_over = data_target_over.Disbursed"
   ]
  },
  {
   "cell_type": "code",
   "execution_count": 123,
   "metadata": {},
   "outputs": [
    {
     "name": "stdout",
     "output_type": "stream",
     "text": [
      "Fituję :  Regresja logistyczna\n"
     ]
    },
    {
     "name": "stderr",
     "output_type": "stream",
     "text": [
      "C:\\ProgramData\\Anaconda3\\lib\\site-packages\\sklearn\\linear_model\\logistic.py:433: FutureWarning: Default solver will be changed to 'lbfgs' in 0.22. Specify a solver to silence this warning.\n",
      "  FutureWarning)\n"
     ]
    },
    {
     "name": "stdout",
     "output_type": "stream",
     "text": [
      "mean:  0.7871737759628653 , std:  0.0030253887368449635 {'model__C': 0.01, 'model__penalty': 'l1'}\n",
      "mean:  0.7865462142033933 , std:  0.0030554074698025827 {'model__C': 0.01, 'model__penalty': 'l2'}\n",
      "mean:  0.8096887001226203 , std:  0.002117462687012438 {'model__C': 1, 'model__penalty': 'l1'}\n",
      "mean:  0.7896695269337148 , std:  0.003086243031247252 {'model__C': 1, 'model__penalty': 'l2'}\n",
      "mean:  0.8105730991734728 , std:  0.00202231127108618 {'model__C': 10, 'model__penalty': 'l1'}\n",
      "mean:  0.7965384473711957 , std:  0.0037593777043707 {'model__C': 10, 'model__penalty': 'l2'}\n",
      "mean:  0.8104759305098348 , std:  0.001989102033808717 {'model__C': 100, 'model__penalty': 'l1'}\n",
      "mean:  0.8070856219693363 , std:  0.0026696902609823193 {'model__C': 100, 'model__penalty': 'l2'}\n",
      "Fituję :  Drzewo decyzyjne\n",
      "mean:  0.992095631282161 , std:  0.0009311962544223618 {'model__criterion': 'gini'}\n",
      "mean:  0.9919564440107788 , std:  0.0005859184285673583 {'model__criterion': 'entropy'}\n",
      "Fituję :  Naiwny Bayes\n",
      "mean:  0.5511279480065169 , std:  0.009903082727004795 {}\n",
      "Fituję :  RandomForest\n",
      "mean:  0.9497838440306421 , std:  0.0023044009967984097 {'model__max_depth': 10, 'model__min_samples_split': 2, 'model__n_estimators': 10}\n",
      "mean:  0.9579376963507916 , std:  0.0018622333785831395 {'model__max_depth': 10, 'model__min_samples_split': 2, 'model__n_estimators': 100}\n",
      "mean:  0.9578919168213018 , std:  0.0015963346634618192 {'model__max_depth': 10, 'model__min_samples_split': 2, 'model__n_estimators': 100}\n",
      "mean:  0.9488502610211715 , std:  0.0023681129475264353 {'model__max_depth': 10, 'model__min_samples_split': 4, 'model__n_estimators': 10}\n",
      "mean:  0.9581662718562427 , std:  0.0020686647193007023 {'model__max_depth': 10, 'model__min_samples_split': 4, 'model__n_estimators': 100}\n",
      "mean:  0.9582556614416129 , std:  0.0014721832820981005 {'model__max_depth': 10, 'model__min_samples_split': 4, 'model__n_estimators': 100}\n",
      "mean:  0.9487542290898168 , std:  0.002255428630315643 {'model__max_depth': 10, 'model__min_samples_split': 8, 'model__n_estimators': 10}\n",
      "mean:  0.9584884418158859 , std:  0.0018027324340919534 {'model__max_depth': 10, 'model__min_samples_split': 8, 'model__n_estimators': 100}\n",
      "mean:  0.9580000053395722 , std:  0.001549619011705355 {'model__max_depth': 10, 'model__min_samples_split': 8, 'model__n_estimators': 100}\n",
      "mean:  0.9998750531267181 , std:  0.00010383113730653862 {'model__max_depth': 100, 'model__min_samples_split': 2, 'model__n_estimators': 10}\n",
      "mean:  0.9999188437476357 , std:  8.935181614324801e-05 {'model__max_depth': 100, 'model__min_samples_split': 2, 'model__n_estimators': 100}\n",
      "mean:  0.9999188044478159 , std:  8.313381934420698e-05 {'model__max_depth': 100, 'model__min_samples_split': 2, 'model__n_estimators': 100}\n",
      "mean:  0.9998969994207271 , std:  8.792977909010338e-05 {'model__max_depth': 100, 'model__min_samples_split': 4, 'model__n_estimators': 10}\n",
      "mean:  0.9999189255337475 , std:  6.92177401869139e-05 {'model__max_depth': 100, 'model__min_samples_split': 4, 'model__n_estimators': 100}\n",
      "mean:  0.9999115775295875 , std:  9.139393014741528e-05 {'model__max_depth': 100, 'model__min_samples_split': 4, 'model__n_estimators': 100}\n",
      "mean:  0.9998897215189484 , std:  8.817296981776813e-05 {'model__max_depth': 100, 'model__min_samples_split': 8, 'model__n_estimators': 10}\n",
      "mean:  0.9999189032284443 , std:  8.927852123534583e-05 {'model__max_depth': 100, 'model__min_samples_split': 8, 'model__n_estimators': 100}\n",
      "mean:  0.9999115594729134 , std:  8.534983004458211e-05 {'model__max_depth': 100, 'model__min_samples_split': 8, 'model__n_estimators': 100}\n",
      "mean:  0.9999043283060558 , std:  8.693442708568674e-05 {'model__max_depth': 1000, 'model__min_samples_split': 2, 'model__n_estimators': 10}\n",
      "mean:  0.999918974392983 , std:  8.312909224594832e-05 {'model__max_depth': 1000, 'model__min_samples_split': 2, 'model__n_estimators': 100}\n",
      "mean:  0.9999188915447141 , std:  8.312213587024796e-05 {'model__max_depth': 1000, 'model__min_samples_split': 2, 'model__n_estimators': 100}\n",
      "mean:  0.9998971013878273 , std:  9.382946631390489e-05 {'model__max_depth': 1000, 'model__min_samples_split': 4, 'model__n_estimators': 10}\n",
      "mean:  0.9999189680200393 , std:  6.926682831880544e-05 {'model__max_depth': 1000, 'model__min_samples_split': 4, 'model__n_estimators': 100}\n",
      "mean:  0.9999187672723105 , std:  8.918195752981741e-05 {'model__max_depth': 1000, 'model__min_samples_split': 4, 'model__n_estimators': 100}\n",
      "mean:  0.9998896896542296 , std:  9.963721483536458e-05 {'model__max_depth': 1000, 'model__min_samples_split': 8, 'model__n_estimators': 10}\n",
      "mean:  0.9999188681772536 , std:  8.312032577035023e-05 {'model__max_depth': 1000, 'model__min_samples_split': 8, 'model__n_estimators': 100}\n",
      "mean:  0.9999188140072316 , std:  8.919608065926643e-05 {'model__max_depth': 1000, 'model__min_samples_split': 8, 'model__n_estimators': 100}\n",
      "\n",
      "Wyniki na testowym:\n",
      "Regresja logistyczna  ( {'model__C': 10, 'model__penalty': 'l1'} ): 0.7243162491381292  : 0.7369572829131653  : 0.0773076923076923\n",
      "Drzewo decyzyjne  ( {'model__criterion': 'gini'} ): 0.9709836819122041  : 0.5224686267541843  : 0.0595903165735568\n",
      "Naiwny Bayes  ( {} ): 0.5329809239255343  : 0.5424592722661205  : 0.035137701804368475\n",
      "RandomForest  ( {'model__max_depth': 1000, 'model__min_samples_split': 2, 'model__n_estimators': 100} ): 0.9840841185934268  : 0.5034103815655615  : 0.014234875444839859\n"
     ]
    },
    {
     "data": {
      "text/html": [
       "<div>\n",
       "<style scoped>\n",
       "    .dataframe tbody tr th:only-of-type {\n",
       "        vertical-align: middle;\n",
       "    }\n",
       "\n",
       "    .dataframe tbody tr th {\n",
       "        vertical-align: top;\n",
       "    }\n",
       "\n",
       "    .dataframe thead th {\n",
       "        text-align: right;\n",
       "    }\n",
       "</style>\n",
       "<table border=\"1\" class=\"dataframe\">\n",
       "  <thead>\n",
       "    <tr style=\"text-align: right;\">\n",
       "      <th></th>\n",
       "      <th>Method</th>\n",
       "      <th>Accuracy Score Test</th>\n",
       "      <th>AUC Score test</th>\n",
       "      <th>F1 Score test</th>\n",
       "    </tr>\n",
       "  </thead>\n",
       "  <tbody>\n",
       "    <tr>\n",
       "      <th>0</th>\n",
       "      <td>Regresja logistyczna</td>\n",
       "      <td>0.724316</td>\n",
       "      <td>0.736957</td>\n",
       "      <td>0.077308</td>\n",
       "    </tr>\n",
       "    <tr>\n",
       "      <th>1</th>\n",
       "      <td>Drzewo decyzyjne</td>\n",
       "      <td>0.970984</td>\n",
       "      <td>0.522469</td>\n",
       "      <td>0.059590</td>\n",
       "    </tr>\n",
       "    <tr>\n",
       "      <th>2</th>\n",
       "      <td>Naiwny Bayes</td>\n",
       "      <td>0.532981</td>\n",
       "      <td>0.542459</td>\n",
       "      <td>0.035138</td>\n",
       "    </tr>\n",
       "    <tr>\n",
       "      <th>3</th>\n",
       "      <td>RandomForest</td>\n",
       "      <td>0.984084</td>\n",
       "      <td>0.503410</td>\n",
       "      <td>0.014235</td>\n",
       "    </tr>\n",
       "  </tbody>\n",
       "</table>\n",
       "</div>"
      ],
      "text/plain": [
       "                 Method  Accuracy Score Test  AUC Score test  F1 Score test\n",
       "0  Regresja logistyczna             0.724316        0.736957       0.077308\n",
       "1      Drzewo decyzyjne             0.970984        0.522469       0.059590\n",
       "2          Naiwny Bayes             0.532981        0.542459       0.035138\n",
       "3          RandomForest             0.984084        0.503410       0.014235"
      ]
     },
     "metadata": {},
     "output_type": "display_data"
    }
   ],
   "source": [
    "### Uruchoemienie modelowania na danych LabelEncoder _oversamplig\n",
    "wybor_modelu(X_train_over, y_train_over, X_test, y_test, names, models, parameters, \"roc_auc\")"
   ]
  }
 ],
 "metadata": {
  "kernelspec": {
   "display_name": "Python 3",
   "language": "python",
   "name": "python3"
  },
  "language_info": {
   "codemirror_mode": {
    "name": "ipython",
    "version": 3
   },
   "file_extension": ".py",
   "mimetype": "text/x-python",
   "name": "python",
   "nbconvert_exporter": "python",
   "pygments_lexer": "ipython3",
   "version": "3.7.1"
  }
 },
 "nbformat": 4,
 "nbformat_minor": 2
}
